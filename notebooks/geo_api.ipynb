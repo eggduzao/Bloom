{
 "cells": [
  {
   "cell_type": "markdown",
   "metadata": {},
   "source": [
    "## Jupyter Notebook: Exploring GEO API\n",
    "\n",
    "This notebook will guide you through retrieving and analyzing GEO datasets using the GEO API."
   ]
  },
  {
   "cell_type": "code",
   "execution_count": 1,
   "metadata": {},
   "outputs": [
    {
     "name": "stdout",
     "output_type": "stream",
     "text": [
      "Requirement already satisfied: GEOparse in /Users/egg/micromamba/envs/bio/lib/python3.12/site-packages (2.0.4)\n",
      "Requirement already satisfied: pandas in /Users/egg/.pyenv/versions/3.12.0/lib/python3.12/site-packages (2.2.3)\n",
      "Requirement already satisfied: matplotlib in /Users/egg/.pyenv/versions/3.12.0/lib/python3.12/site-packages (3.9.2)\n",
      "Requirement already satisfied: seaborn in /Users/egg/.pyenv/versions/3.12.0/lib/python3.12/site-packages (0.13.2)\n",
      "Requirement already satisfied: numpy>=1.7 in /Users/egg/.pyenv/versions/3.12.0/lib/python3.12/site-packages (from GEOparse) (2.0.2)\n",
      "Requirement already satisfied: requests>=2.21.0 in /Users/egg/.pyenv/versions/3.12.0/lib/python3.12/site-packages (from GEOparse) (2.32.3)\n",
      "Requirement already satisfied: tqdm>=4.31.1 in /Users/egg/.pyenv/versions/3.12.0/lib/python3.12/site-packages (from GEOparse) (4.66.5)\n",
      "Requirement already satisfied: python-dateutil>=2.8.2 in /Users/egg/.pyenv/versions/3.12.0/lib/python3.12/site-packages (from pandas) (2.9.0.post0)\n",
      "Requirement already satisfied: pytz>=2020.1 in /Users/egg/.pyenv/versions/3.12.0/lib/python3.12/site-packages (from pandas) (2024.2)\n",
      "Requirement already satisfied: tzdata>=2022.7 in /Users/egg/.pyenv/versions/3.12.0/lib/python3.12/site-packages (from pandas) (2024.2)\n",
      "Requirement already satisfied: contourpy>=1.0.1 in /Users/egg/.pyenv/versions/3.12.0/lib/python3.12/site-packages (from matplotlib) (1.3.0)\n",
      "Requirement already satisfied: cycler>=0.10 in /Users/egg/.pyenv/versions/3.12.0/lib/python3.12/site-packages (from matplotlib) (0.12.1)\n",
      "Requirement already satisfied: fonttools>=4.22.0 in /Users/egg/.pyenv/versions/3.12.0/lib/python3.12/site-packages (from matplotlib) (4.54.1)\n",
      "Requirement already satisfied: kiwisolver>=1.3.1 in /Users/egg/.pyenv/versions/3.12.0/lib/python3.12/site-packages (from matplotlib) (1.4.7)\n",
      "Requirement already satisfied: packaging>=20.0 in /Users/egg/.pyenv/versions/3.12.0/lib/python3.12/site-packages (from matplotlib) (24.1)\n",
      "Requirement already satisfied: pillow>=8 in /Users/egg/.pyenv/versions/3.12.0/lib/python3.12/site-packages (from matplotlib) (10.4.0)\n",
      "Requirement already satisfied: pyparsing>=2.3.1 in /Users/egg/.pyenv/versions/3.12.0/lib/python3.12/site-packages (from matplotlib) (3.2.0)\n",
      "Requirement already satisfied: six>=1.5 in /Users/egg/.pyenv/versions/3.12.0/lib/python3.12/site-packages (from python-dateutil>=2.8.2->pandas) (1.16.0)\n",
      "Requirement already satisfied: charset-normalizer<4,>=2 in /Users/egg/.pyenv/versions/3.12.0/lib/python3.12/site-packages (from requests>=2.21.0->GEOparse) (3.4.0)\n",
      "Requirement already satisfied: idna<4,>=2.5 in /Users/egg/.pyenv/versions/3.12.0/lib/python3.12/site-packages (from requests>=2.21.0->GEOparse) (3.10)\n",
      "Requirement already satisfied: urllib3<3,>=1.21.1 in /Users/egg/.pyenv/versions/3.12.0/lib/python3.12/site-packages (from requests>=2.21.0->GEOparse) (2.2.3)\n",
      "Requirement already satisfied: certifi>=2017.4.17 in /Users/egg/.pyenv/versions/3.12.0/lib/python3.12/site-packages (from requests>=2.21.0->GEOparse) (2024.8.30)\n"
     ]
    }
   ],
   "source": [
    "# Install dependencies (Run this cell first)\n",
    "!pip install GEOparse pandas matplotlib seaborn"
   ]
  },
  {
   "cell_type": "code",
   "execution_count": 1,
   "metadata": {},
   "outputs": [],
   "source": [
    "# Import necessary libraries\n",
    "import os\n",
    "import time\n",
    "import requests\n",
    "import GEOparse\n",
    "import pandas as pd\n",
    "import seaborn as sns\n",
    "from bs4 import BeautifulSoup\n",
    "import matplotlib.pyplot as plt\n",
    "from IPython.display import display"
   ]
  },
  {
   "cell_type": "markdown",
   "metadata": {},
   "source": [
    "## Step 1: Retrieve a GEO Dataset (GSE Accession Number)"
   ]
  },
  {
   "cell_type": "code",
   "execution_count": 2,
   "metadata": {},
   "outputs": [
    {
     "name": "stderr",
     "output_type": "stream",
     "text": [
      "01-Mar-2025 16:12:06 INFO GEOparse - Downloading ftp://ftp.ncbi.nlm.nih.gov/geo/series/GSE285nnn/GSE285812/soft/GSE285812_family.soft.gz to ./GEO/GSE285812_family.soft.gz\n"
     ]
    },
    {
     "name": "stdout",
     "output_type": "stream",
     "text": [
      "Fetching GSE285812 from GEO...\n"
     ]
    },
    {
     "name": "stderr",
     "output_type": "stream",
     "text": [
      "01-Mar-2025 16:12:36 ERROR downloader - Error when quiting FTP server.\n",
      "Traceback (most recent call last):\n",
      "  File \"/Users/egg/micromamba/envs/bio/lib/python3.12/site-packages/GEOparse/downloader.py\", line 148, in _download_ftp\n",
      "    ftp = FTP(parsed_url.netloc)\n",
      "          ^^^^^^^^^^^^^^^^^^^^^^\n",
      "  File \"/Users/egg/micromamba/envs/bio/lib/python3.12/ftplib.py\", line 121, in __init__\n",
      "    self.connect(host)\n",
      "  File \"/Users/egg/micromamba/envs/bio/lib/python3.12/ftplib.py\", line 158, in connect\n",
      "    self.sock = socket.create_connection((self.host, self.port), self.timeout,\n",
      "                ^^^^^^^^^^^^^^^^^^^^^^^^^^^^^^^^^^^^^^^^^^^^^^^^^^^^^^^^^^^^^^\n",
      "  File \"/Users/egg/micromamba/envs/bio/lib/python3.12/socket.py\", line 841, in create_connection\n",
      "    for res in getaddrinfo(host, port, 0, SOCK_STREAM):\n",
      "               ^^^^^^^^^^^^^^^^^^^^^^^^^^^^^^^^^^^^^^^\n",
      "  File \"/Users/egg/micromamba/envs/bio/lib/python3.12/socket.py\", line 978, in getaddrinfo\n",
      "    for res in _socket.getaddrinfo(host, port, family, type, proto, flags):\n",
      "               ^^^^^^^^^^^^^^^^^^^^^^^^^^^^^^^^^^^^^^^^^^^^^^^^^^^^^^^^^^^\n",
      "socket.gaierror: [Errno 8] nodename nor servname provided, or not known\n",
      "\n",
      "During handling of the above exception, another exception occurred:\n",
      "\n",
      "Traceback (most recent call last):\n",
      "  File \"/Users/egg/micromamba/envs/bio/lib/python3.12/site-packages/GEOparse/downloader.py\", line 181, in _download_ftp\n",
      "    ftp.quit()\n",
      "    ^^^\n",
      "UnboundLocalError: cannot access local variable 'ftp' where it is not associated with a value\n",
      "01-Mar-2025 16:12:36 DEBUG downloader - Moving /var/folders/xp/g59rxjvd2jbgkq0203smhgm40000gn/T/tmpjcqwat7d to /Users/egg/Projects/Bloom/notebooks/GEO/GSE285812_family.soft.gz\n"
     ]
    },
    {
     "ename": "OSError",
     "evalue": "Download failed due to '[Errno 2] No such file or directory: '/var/folders/xp/g59rxjvd2jbgkq0203smhgm40000gn/T/tmpjcqwat7d''. ID could be incorrect or the data might not be public yet.",
     "output_type": "error",
     "traceback": [
      "\u001b[0;31m---------------------------------------------------------------------------\u001b[0m",
      "\u001b[0;31mFileNotFoundError\u001b[0m                         Traceback (most recent call last)",
      "File \u001b[0;32m~/micromamba/envs/bio/lib/python3.12/site-packages/GEOparse/utils.py:80\u001b[0m, in \u001b[0;36mdownload_from_url\u001b[0;34m(url, destination_path, force, aspera, silent)\u001b[0m\n\u001b[1;32m     79\u001b[0m     \u001b[38;5;28;01melse\u001b[39;00m:\n\u001b[0;32m---> 80\u001b[0m         \u001b[43mfn\u001b[49m\u001b[38;5;241;43m.\u001b[39;49m\u001b[43mdownload\u001b[49m\u001b[43m(\u001b[49m\u001b[43msilent\u001b[49m\u001b[38;5;241;43m=\u001b[39;49m\u001b[43msilent\u001b[49m\u001b[43m,\u001b[49m\u001b[43m \u001b[49m\u001b[43mforce\u001b[49m\u001b[38;5;241;43m=\u001b[39;49m\u001b[43mforce\u001b[49m\u001b[43m)\u001b[49m\n\u001b[1;32m     81\u001b[0m \u001b[38;5;28;01mexcept\u001b[39;00m \u001b[38;5;167;01mException\u001b[39;00m \u001b[38;5;28;01mas\u001b[39;00m err:\n",
      "File \u001b[0;32m~/micromamba/envs/bio/lib/python3.12/site-packages/GEOparse/downloader.py:82\u001b[0m, in \u001b[0;36mDownloader.download\u001b[0;34m(self, force, silent)\u001b[0m\n\u001b[1;32m     81\u001b[0m     \u001b[38;5;28;01melse\u001b[39;00m:\n\u001b[0;32m---> 82\u001b[0m         \u001b[43m_download\u001b[49m\u001b[43m(\u001b[49m\u001b[43m)\u001b[49m\n\u001b[1;32m     83\u001b[0m \u001b[38;5;28;01mfinally\u001b[39;00m:\n",
      "File \u001b[0;32m~/micromamba/envs/bio/lib/python3.12/site-packages/GEOparse/downloader.py:57\u001b[0m, in \u001b[0;36mDownloader.download.<locals>._download\u001b[0;34m()\u001b[0m\n\u001b[1;32m     56\u001b[0m logger\u001b[38;5;241m.\u001b[39mdebug(\u001b[38;5;124m\"\u001b[39m\u001b[38;5;124mMoving \u001b[39m\u001b[38;5;132;01m%s\u001b[39;00m\u001b[38;5;124m to \u001b[39m\u001b[38;5;132;01m%s\u001b[39;00m\u001b[38;5;124m\"\u001b[39m \u001b[38;5;241m%\u001b[39m (\u001b[38;5;28mself\u001b[39m\u001b[38;5;241m.\u001b[39m_temp_file_name, \u001b[38;5;28mself\u001b[39m\u001b[38;5;241m.\u001b[39mdestination))\n\u001b[0;32m---> 57\u001b[0m \u001b[43mshutil\u001b[49m\u001b[38;5;241;43m.\u001b[39;49m\u001b[43mcopyfile\u001b[49m\u001b[43m(\u001b[49m\u001b[38;5;28;43mself\u001b[39;49m\u001b[38;5;241;43m.\u001b[39;49m\u001b[43m_temp_file_name\u001b[49m\u001b[43m,\u001b[49m\u001b[43m \u001b[49m\u001b[38;5;28;43mself\u001b[39;49m\u001b[38;5;241;43m.\u001b[39;49m\u001b[43mdestination\u001b[49m\u001b[43m)\u001b[49m\n\u001b[1;32m     58\u001b[0m logger\u001b[38;5;241m.\u001b[39mdebug(\u001b[38;5;124m\"\u001b[39m\u001b[38;5;124mSuccessfully downloaded \u001b[39m\u001b[38;5;132;01m%s\u001b[39;00m\u001b[38;5;124m\"\u001b[39m \u001b[38;5;241m%\u001b[39m \u001b[38;5;28mself\u001b[39m\u001b[38;5;241m.\u001b[39murl)\n",
      "File \u001b[0;32m~/micromamba/envs/bio/lib/python3.12/shutil.py:260\u001b[0m, in \u001b[0;36mcopyfile\u001b[0;34m(src, dst, follow_symlinks)\u001b[0m\n\u001b[1;32m    259\u001b[0m \u001b[38;5;28;01melse\u001b[39;00m:\n\u001b[0;32m--> 260\u001b[0m     \u001b[38;5;28;01mwith\u001b[39;00m \u001b[38;5;28;43mopen\u001b[39;49m\u001b[43m(\u001b[49m\u001b[43msrc\u001b[49m\u001b[43m,\u001b[49m\u001b[43m \u001b[49m\u001b[38;5;124;43m'\u001b[39;49m\u001b[38;5;124;43mrb\u001b[39;49m\u001b[38;5;124;43m'\u001b[39;49m\u001b[43m)\u001b[49m \u001b[38;5;28;01mas\u001b[39;00m fsrc:\n\u001b[1;32m    261\u001b[0m         \u001b[38;5;28;01mtry\u001b[39;00m:\n",
      "\u001b[0;31mFileNotFoundError\u001b[0m: [Errno 2] No such file or directory: '/var/folders/xp/g59rxjvd2jbgkq0203smhgm40000gn/T/tmpjcqwat7d'",
      "\nDuring handling of the above exception, another exception occurred:\n",
      "\u001b[0;31mOSError\u001b[0m                                   Traceback (most recent call last)",
      "Cell \u001b[0;32mIn[2], line 9\u001b[0m\n\u001b[1;32m      6\u001b[0m     \u001b[38;5;28;01mreturn\u001b[39;00m gse\n\u001b[1;32m      8\u001b[0m \u001b[38;5;66;03m# Example usage: Fetch GSE285812\u001b[39;00m\n\u001b[0;32m----> 9\u001b[0m gse \u001b[38;5;241m=\u001b[39m \u001b[43mfetch_gse_data\u001b[49m\u001b[43m(\u001b[49m\u001b[38;5;124;43m\"\u001b[39;49m\u001b[38;5;124;43mGSE285812\u001b[39;49m\u001b[38;5;124;43m\"\u001b[39;49m\u001b[43m)\u001b[49m\n",
      "Cell \u001b[0;32mIn[2], line 4\u001b[0m, in \u001b[0;36mfetch_gse_data\u001b[0;34m(accession_id)\u001b[0m\n\u001b[1;32m      2\u001b[0m \u001b[38;5;250m\u001b[39m\u001b[38;5;124;03m\"\"\"Fetches GEO Series data for a given accession ID.\"\"\"\u001b[39;00m\n\u001b[1;32m      3\u001b[0m \u001b[38;5;28mprint\u001b[39m(\u001b[38;5;124mf\u001b[39m\u001b[38;5;124m\"\u001b[39m\u001b[38;5;124mFetching \u001b[39m\u001b[38;5;132;01m{\u001b[39;00maccession_id\u001b[38;5;132;01m}\u001b[39;00m\u001b[38;5;124m from GEO...\u001b[39m\u001b[38;5;124m\"\u001b[39m)\n\u001b[0;32m----> 4\u001b[0m gse \u001b[38;5;241m=\u001b[39m \u001b[43mGEOparse\u001b[49m\u001b[38;5;241;43m.\u001b[39;49m\u001b[43mget_GEO\u001b[49m\u001b[43m(\u001b[49m\u001b[43mgeo\u001b[49m\u001b[38;5;241;43m=\u001b[39;49m\u001b[43maccession_id\u001b[49m\u001b[43m,\u001b[49m\u001b[43m \u001b[49m\u001b[43mdestdir\u001b[49m\u001b[38;5;241;43m=\u001b[39;49m\u001b[38;5;124;43m\"\u001b[39;49m\u001b[38;5;124;43m./GEO/\u001b[39;49m\u001b[38;5;124;43m\"\u001b[39;49m\u001b[43m)\u001b[49m\n\u001b[1;32m      5\u001b[0m \u001b[38;5;28mprint\u001b[39m(\u001b[38;5;124mf\u001b[39m\u001b[38;5;124m\"\u001b[39m\u001b[38;5;124mFetched \u001b[39m\u001b[38;5;132;01m{\u001b[39;00maccession_id\u001b[38;5;132;01m}\u001b[39;00m\u001b[38;5;124m Successfully!\u001b[39m\u001b[38;5;124m\"\u001b[39m)\n\u001b[1;32m      6\u001b[0m \u001b[38;5;28;01mreturn\u001b[39;00m gse\n",
      "File \u001b[0;32m~/micromamba/envs/bio/lib/python3.12/site-packages/GEOparse/GEOparse.py:96\u001b[0m, in \u001b[0;36mget_GEO\u001b[0;34m(geo, filepath, destdir, how, annotate_gpl, geotype, include_data, silent, aspera, partial, open_kwargs)\u001b[0m\n\u001b[1;32m     93\u001b[0m     logger\u001b[38;5;241m.\u001b[39msetLevel(\u001b[38;5;241m100\u001b[39m)  \u001b[38;5;66;03m# More than critical\u001b[39;00m\n\u001b[1;32m     95\u001b[0m \u001b[38;5;28;01mif\u001b[39;00m filepath \u001b[38;5;129;01mis\u001b[39;00m \u001b[38;5;28;01mNone\u001b[39;00m:\n\u001b[0;32m---> 96\u001b[0m     filepath, geotype \u001b[38;5;241m=\u001b[39m \u001b[43mget_GEO_file\u001b[49m\u001b[43m(\u001b[49m\n\u001b[1;32m     97\u001b[0m \u001b[43m        \u001b[49m\u001b[43mgeo\u001b[49m\u001b[43m,\u001b[49m\n\u001b[1;32m     98\u001b[0m \u001b[43m        \u001b[49m\u001b[43mdestdir\u001b[49m\u001b[38;5;241;43m=\u001b[39;49m\u001b[43mdestdir\u001b[49m\u001b[43m,\u001b[49m\n\u001b[1;32m     99\u001b[0m \u001b[43m        \u001b[49m\u001b[43mhow\u001b[49m\u001b[38;5;241;43m=\u001b[39;49m\u001b[43mhow\u001b[49m\u001b[43m,\u001b[49m\n\u001b[1;32m    100\u001b[0m \u001b[43m        \u001b[49m\u001b[43mannotate_gpl\u001b[49m\u001b[38;5;241;43m=\u001b[39;49m\u001b[43mannotate_gpl\u001b[49m\u001b[43m,\u001b[49m\n\u001b[1;32m    101\u001b[0m \u001b[43m        \u001b[49m\u001b[43minclude_data\u001b[49m\u001b[38;5;241;43m=\u001b[39;49m\u001b[43minclude_data\u001b[49m\u001b[43m,\u001b[49m\n\u001b[1;32m    102\u001b[0m \u001b[43m        \u001b[49m\u001b[43msilent\u001b[49m\u001b[38;5;241;43m=\u001b[39;49m\u001b[43msilent\u001b[49m\u001b[43m,\u001b[49m\n\u001b[1;32m    103\u001b[0m \u001b[43m        \u001b[49m\u001b[43maspera\u001b[49m\u001b[38;5;241;43m=\u001b[39;49m\u001b[43maspera\u001b[49m\u001b[43m,\u001b[49m\n\u001b[1;32m    104\u001b[0m \u001b[43m    \u001b[49m\u001b[43m)\u001b[49m\n\u001b[1;32m    105\u001b[0m \u001b[38;5;28;01melse\u001b[39;00m:\n\u001b[1;32m    106\u001b[0m     \u001b[38;5;28;01mif\u001b[39;00m geotype \u001b[38;5;129;01mis\u001b[39;00m \u001b[38;5;28;01mNone\u001b[39;00m:\n",
      "File \u001b[0;32m~/micromamba/envs/bio/lib/python3.12/site-packages/GEOparse/GEOparse.py:263\u001b[0m, in \u001b[0;36mget_GEO_file\u001b[0;34m(geo, destdir, annotate_gpl, how, include_data, silent, aspera)\u001b[0m\n\u001b[1;32m    261\u001b[0m \u001b[38;5;28;01mif\u001b[39;00m \u001b[38;5;129;01mnot\u001b[39;00m path\u001b[38;5;241m.\u001b[39misfile(filepath):\n\u001b[1;32m    262\u001b[0m     logger\u001b[38;5;241m.\u001b[39minfo(\u001b[38;5;124m\"\u001b[39m\u001b[38;5;124mDownloading \u001b[39m\u001b[38;5;132;01m%s\u001b[39;00m\u001b[38;5;124m to \u001b[39m\u001b[38;5;132;01m%s\u001b[39;00m\u001b[38;5;124m\"\u001b[39m \u001b[38;5;241m%\u001b[39m (url, filepath))\n\u001b[0;32m--> 263\u001b[0m     \u001b[43mutils\u001b[49m\u001b[38;5;241;43m.\u001b[39;49m\u001b[43mdownload_from_url\u001b[49m\u001b[43m(\u001b[49m\u001b[43murl\u001b[49m\u001b[43m,\u001b[49m\u001b[43m \u001b[49m\u001b[43mfilepath\u001b[49m\u001b[43m,\u001b[49m\u001b[43m \u001b[49m\u001b[43msilent\u001b[49m\u001b[38;5;241;43m=\u001b[39;49m\u001b[43msilent\u001b[49m\u001b[43m,\u001b[49m\u001b[43m \u001b[49m\u001b[43maspera\u001b[49m\u001b[38;5;241;43m=\u001b[39;49m\u001b[43maspera\u001b[49m\u001b[43m)\u001b[49m\n\u001b[1;32m    264\u001b[0m \u001b[38;5;28;01melse\u001b[39;00m:\n\u001b[1;32m    265\u001b[0m     logger\u001b[38;5;241m.\u001b[39minfo(\u001b[38;5;124m\"\u001b[39m\u001b[38;5;124mFile already exist: using local version.\u001b[39m\u001b[38;5;124m\"\u001b[39m)\n",
      "File \u001b[0;32m~/micromamba/envs/bio/lib/python3.12/site-packages/GEOparse/utils.py:82\u001b[0m, in \u001b[0;36mdownload_from_url\u001b[0;34m(url, destination_path, force, aspera, silent)\u001b[0m\n\u001b[1;32m     80\u001b[0m         fn\u001b[38;5;241m.\u001b[39mdownload(silent\u001b[38;5;241m=\u001b[39msilent, force\u001b[38;5;241m=\u001b[39mforce)\n\u001b[1;32m     81\u001b[0m \u001b[38;5;28;01mexcept\u001b[39;00m \u001b[38;5;167;01mException\u001b[39;00m \u001b[38;5;28;01mas\u001b[39;00m err:\n\u001b[0;32m---> 82\u001b[0m     \u001b[38;5;28;01mraise\u001b[39;00m \u001b[38;5;167;01mIOError\u001b[39;00m(\n\u001b[1;32m     83\u001b[0m         \u001b[38;5;124m\"\u001b[39m\u001b[38;5;124mDownload failed due to \u001b[39m\u001b[38;5;124m'\u001b[39m\u001b[38;5;132;01m%s\u001b[39;00m\u001b[38;5;124m'\u001b[39m\u001b[38;5;124m. ID could be incorrect or the \u001b[39m\u001b[38;5;124m\"\u001b[39m \u001b[38;5;241m%\u001b[39m err\n\u001b[1;32m     84\u001b[0m         \u001b[38;5;241m+\u001b[39m \u001b[38;5;124m\"\u001b[39m\u001b[38;5;124mdata might not be public yet.\u001b[39m\u001b[38;5;124m\"\u001b[39m\n\u001b[1;32m     85\u001b[0m     )\n",
      "\u001b[0;31mOSError\u001b[0m: Download failed due to '[Errno 2] No such file or directory: '/var/folders/xp/g59rxjvd2jbgkq0203smhgm40000gn/T/tmpjcqwat7d''. ID could be incorrect or the data might not be public yet."
     ]
    }
   ],
   "source": [
    "def fetch_gse_data(accession_id):\n",
    "    \"\"\"Fetches GEO Series data for a given accession ID.\"\"\"\n",
    "    print(f\"Fetching {accession_id} from GEO...\")\n",
    "    gse = GEOparse.get_GEO(geo=accession_id, destdir=\"./GEO/\")\n",
    "    print(f\"Fetched {accession_id} Successfully!\")\n",
    "    return gse\n",
    "\n",
    "# Example usage: Fetch GSE285812\n",
    "gse = fetch_gse_data(\"GSE285812\")"
   ]
  },
  {
   "cell_type": "markdown",
   "metadata": {},
   "source": [
    "## Step 2: Extract Metadata"
   ]
  },
  {
   "cell_type": "code",
   "execution_count": 14,
   "metadata": {},
   "outputs": [
    {
     "name": "stdout",
     "output_type": "stream",
     "text": [
      "Dataset Title: ['Droplet-based high-throughput 3D genome structure mapping of single cells with simultaneous transcriptomics']\n",
      "Dataset Summary: ['This SuperSeries is composed of the SubSeries listed below.']\n",
      "Dataset Overall Design: ['Refer to individual Series']\n",
      "GSM8698727\n",
      "GSM8698728\n",
      "GSM8698729\n",
      "GSM8698730\n",
      "GSM8698731\n",
      "GSM8698732\n",
      "GSM8698919\n",
      "GSM8698920\n",
      "GSM8698921\n",
      "GSM8698922\n",
      "GSM8698923\n",
      "GSM8698924\n",
      "GSM8698925\n",
      "GSM8709603\n",
      "GSM8709626\n"
     ]
    }
   ],
   "source": [
    "print(\"Dataset Title:\", gse.metadata[\"title\"])\n",
    "print(\"Dataset Summary:\", gse.metadata[\"summary\"])\n",
    "print(\"Dataset Overall Design:\", gse.metadata[\"overall_design\"])\n",
    "for item in gse.gsms:\n",
    "    print(item)"
   ]
  },
  {
   "cell_type": "markdown",
   "metadata": {},
   "source": [
    "## Step 3: Extract Sample Information"
   ]
  },
  {
   "cell_type": "code",
   "execution_count": 30,
   "metadata": {},
   "outputs": [
    {
     "name": "stdout",
     "output_type": "stream",
     "text": [
      "Total Samples: 15\n",
      "['Droplet-based high-throughput 3D genome structure mapping of single cells with simultaneous transcriptomics']\n",
      "['GM12878 and mESC cell mixture, dscHi-C, cultured']\n",
      "GM12878 and mESC cell mixture, dscHi-C, cultured\n"
     ]
    },
    {
     "data": {
      "text/html": [
       "<div>\n",
       "<style scoped>\n",
       "    .dataframe tbody tr th:only-of-type {\n",
       "        vertical-align: middle;\n",
       "    }\n",
       "\n",
       "    .dataframe tbody tr th {\n",
       "        vertical-align: top;\n",
       "    }\n",
       "\n",
       "    .dataframe thead th {\n",
       "        text-align: right;\n",
       "    }\n",
       "</style>\n",
       "<table border=\"1\" class=\"dataframe\">\n",
       "  <thead>\n",
       "    <tr style=\"text-align: right;\">\n",
       "      <th></th>\n",
       "      <th>Sample ID</th>\n",
       "      <th>Title</th>\n",
       "      <th>Source Name</th>\n",
       "      <th>Organism</th>\n",
       "      <th>Molecule</th>\n",
       "      <th>Description</th>\n",
       "    </tr>\n",
       "  </thead>\n",
       "  <tbody>\n",
       "    <tr>\n",
       "      <th>0</th>\n",
       "      <td>GSM8698727</td>\n",
       "      <td>GM12878 and mESC cell mixture, dscHi-C, cultured</td>\n",
       "      <td>B lymphoblastoid, mouse embryonic stem cell</td>\n",
       "      <td>Homo sapiens</td>\n",
       "      <td>genomic DNA</td>\n",
       "      <td>Library name: mESC-GM_dscHi-C</td>\n",
       "    </tr>\n",
       "    <tr>\n",
       "      <th>1</th>\n",
       "      <td>GSM8698728</td>\n",
       "      <td>mESC, dscHi-C, cultured, rep1</td>\n",
       "      <td>mouse embryonic stem cell</td>\n",
       "      <td>Mus musculus</td>\n",
       "      <td>genomic DNA</td>\n",
       "      <td>Library name: mESC_dscHi-C_1</td>\n",
       "    </tr>\n",
       "    <tr>\n",
       "      <th>2</th>\n",
       "      <td>GSM8698729</td>\n",
       "      <td>mESC, dscHi-C, cultured, rep2</td>\n",
       "      <td>mouse embryonic stem cell</td>\n",
       "      <td>Mus musculus</td>\n",
       "      <td>genomic DNA</td>\n",
       "      <td>Library name: mESC_dscHi-C_2</td>\n",
       "    </tr>\n",
       "    <tr>\n",
       "      <th>3</th>\n",
       "      <td>GSM8698730</td>\n",
       "      <td>mESC, dscHi-C, cultured, subsample</td>\n",
       "      <td>mouse embryonic stem cell</td>\n",
       "      <td>Mus musculus</td>\n",
       "      <td>genomic DNA</td>\n",
       "      <td>Library name: mESC_dscHi-C_sub</td>\n",
       "    </tr>\n",
       "    <tr>\n",
       "      <th>4</th>\n",
       "      <td>GSM8698731</td>\n",
       "      <td>Human cell line mixture, dscHi-C, cultured</td>\n",
       "      <td>mixture</td>\n",
       "      <td>Homo sapiens</td>\n",
       "      <td>genomic DNA</td>\n",
       "      <td>Library name: Cell-line_dscHi-C</td>\n",
       "    </tr>\n",
       "    <tr>\n",
       "      <th>5</th>\n",
       "      <td>GSM8698732</td>\n",
       "      <td>GM12878_dscHi-C, dscHi-C, cultured</td>\n",
       "      <td>B lymphoblastoid</td>\n",
       "      <td>Homo sapiens</td>\n",
       "      <td>genomic DNA</td>\n",
       "      <td>Library name: GM12878_dscHi-C</td>\n",
       "    </tr>\n",
       "    <tr>\n",
       "      <th>6</th>\n",
       "      <td>GSM8698919</td>\n",
       "      <td>Mouse brain cortex, dscHi-C, 12 month-old</td>\n",
       "      <td>Brain cortex</td>\n",
       "      <td>Mus musculus</td>\n",
       "      <td>genomic DNA</td>\n",
       "      <td>Library name: b12-month-BC-dscHiC</td>\n",
       "    </tr>\n",
       "    <tr>\n",
       "      <th>7</th>\n",
       "      <td>GSM8698920</td>\n",
       "      <td>mESC, dscHi-C-multiome, cultured, biotin enrichment, second RT,HiC</td>\n",
       "      <td>mouse embryonic stem cell</td>\n",
       "      <td>Mus musculus</td>\n",
       "      <td>other</td>\n",
       "      <td>Library name: mESC_dscHi-C_multiome_biotin</td>\n",
       "    </tr>\n",
       "    <tr>\n",
       "      <th>8</th>\n",
       "      <td>GSM8698921</td>\n",
       "      <td>mESC, dscHi-C-multiome, cultured, biotin enrichment, second RT, RNA</td>\n",
       "      <td>mouse embryonic stem cell</td>\n",
       "      <td>Mus musculus</td>\n",
       "      <td>other</td>\n",
       "      <td>Library name: mESC_dscHi-C_Multiome_biotin_second_RT_RNA</td>\n",
       "    </tr>\n",
       "    <tr>\n",
       "      <th>9</th>\n",
       "      <td>GSM8698922</td>\n",
       "      <td>mESC, dscHi-C-multiome, cultured, no biotin enrichment, HiC</td>\n",
       "      <td>mouse embryonic stem cell</td>\n",
       "      <td>Mus musculus</td>\n",
       "      <td>other</td>\n",
       "      <td>Library name: mESC_dscHi-C_multiome_no_biotin</td>\n",
       "    </tr>\n",
       "    <tr>\n",
       "      <th>10</th>\n",
       "      <td>GSM8698923</td>\n",
       "      <td>mESC, dscHi-C-multiome, cultured, no biotin enrichment, RNA</td>\n",
       "      <td>mouse embryonic stem cell</td>\n",
       "      <td>Mus musculus</td>\n",
       "      <td>other</td>\n",
       "      <td>Library name: mESC_dscHi-C_Multiome_no_biotin_RNA</td>\n",
       "    </tr>\n",
       "    <tr>\n",
       "      <th>11</th>\n",
       "      <td>GSM8698924</td>\n",
       "      <td>Mouse brain cortex, dscHi-C-multiome, HiC</td>\n",
       "      <td>Brain cortex</td>\n",
       "      <td>Mus musculus</td>\n",
       "      <td>other</td>\n",
       "      <td>Library name: b3-month-BC-dscHiC-gDNA</td>\n",
       "    </tr>\n",
       "    <tr>\n",
       "      <th>12</th>\n",
       "      <td>GSM8698925</td>\n",
       "      <td>Mouse brain cortex, dscHi-C-multiome, RNA</td>\n",
       "      <td>Brain cortex</td>\n",
       "      <td>Mus musculus</td>\n",
       "      <td>other</td>\n",
       "      <td>Library name: b3-month-BC-dscHiC-RNA</td>\n",
       "    </tr>\n",
       "    <tr>\n",
       "      <th>13</th>\n",
       "      <td>GSM8709603</td>\n",
       "      <td>Mouse brain cortex, dscHi-C, 23 month-old</td>\n",
       "      <td>Brain cortex</td>\n",
       "      <td>Mus musculus</td>\n",
       "      <td>genomic DNA</td>\n",
       "      <td>Library name: b23-month-BC-dscHiC</td>\n",
       "    </tr>\n",
       "    <tr>\n",
       "      <th>14</th>\n",
       "      <td>GSM8709626</td>\n",
       "      <td>Mouse brain cortex, dscHi-C, 3 month-old</td>\n",
       "      <td>Brain cortex</td>\n",
       "      <td>Mus musculus</td>\n",
       "      <td>genomic DNA</td>\n",
       "      <td>Library name: b3-month-BC-dscHiC</td>\n",
       "    </tr>\n",
       "  </tbody>\n",
       "</table>\n",
       "</div>"
      ],
      "text/plain": [
       "     Sample ID  \\\n",
       "0   GSM8698727   \n",
       "1   GSM8698728   \n",
       "2   GSM8698729   \n",
       "3   GSM8698730   \n",
       "4   GSM8698731   \n",
       "5   GSM8698732   \n",
       "6   GSM8698919   \n",
       "7   GSM8698920   \n",
       "8   GSM8698921   \n",
       "9   GSM8698922   \n",
       "10  GSM8698923   \n",
       "11  GSM8698924   \n",
       "12  GSM8698925   \n",
       "13  GSM8709603   \n",
       "14  GSM8709626   \n",
       "\n",
       "                                                                  Title  \\\n",
       "0                      GM12878 and mESC cell mixture, dscHi-C, cultured   \n",
       "1                                         mESC, dscHi-C, cultured, rep1   \n",
       "2                                         mESC, dscHi-C, cultured, rep2   \n",
       "3                                    mESC, dscHi-C, cultured, subsample   \n",
       "4                            Human cell line mixture, dscHi-C, cultured   \n",
       "5                                    GM12878_dscHi-C, dscHi-C, cultured   \n",
       "6                             Mouse brain cortex, dscHi-C, 12 month-old   \n",
       "7    mESC, dscHi-C-multiome, cultured, biotin enrichment, second RT,HiC   \n",
       "8   mESC, dscHi-C-multiome, cultured, biotin enrichment, second RT, RNA   \n",
       "9           mESC, dscHi-C-multiome, cultured, no biotin enrichment, HiC   \n",
       "10          mESC, dscHi-C-multiome, cultured, no biotin enrichment, RNA   \n",
       "11                            Mouse brain cortex, dscHi-C-multiome, HiC   \n",
       "12                            Mouse brain cortex, dscHi-C-multiome, RNA   \n",
       "13                            Mouse brain cortex, dscHi-C, 23 month-old   \n",
       "14                             Mouse brain cortex, dscHi-C, 3 month-old   \n",
       "\n",
       "                                    Source Name      Organism     Molecule  \\\n",
       "0   B lymphoblastoid, mouse embryonic stem cell  Homo sapiens  genomic DNA   \n",
       "1                     mouse embryonic stem cell  Mus musculus  genomic DNA   \n",
       "2                     mouse embryonic stem cell  Mus musculus  genomic DNA   \n",
       "3                     mouse embryonic stem cell  Mus musculus  genomic DNA   \n",
       "4                                       mixture  Homo sapiens  genomic DNA   \n",
       "5                              B lymphoblastoid  Homo sapiens  genomic DNA   \n",
       "6                                  Brain cortex  Mus musculus  genomic DNA   \n",
       "7                     mouse embryonic stem cell  Mus musculus        other   \n",
       "8                     mouse embryonic stem cell  Mus musculus        other   \n",
       "9                     mouse embryonic stem cell  Mus musculus        other   \n",
       "10                    mouse embryonic stem cell  Mus musculus        other   \n",
       "11                                 Brain cortex  Mus musculus        other   \n",
       "12                                 Brain cortex  Mus musculus        other   \n",
       "13                                 Brain cortex  Mus musculus  genomic DNA   \n",
       "14                                 Brain cortex  Mus musculus  genomic DNA   \n",
       "\n",
       "                                                 Description  \n",
       "0                              Library name: mESC-GM_dscHi-C  \n",
       "1                               Library name: mESC_dscHi-C_1  \n",
       "2                               Library name: mESC_dscHi-C_2  \n",
       "3                             Library name: mESC_dscHi-C_sub  \n",
       "4                            Library name: Cell-line_dscHi-C  \n",
       "5                              Library name: GM12878_dscHi-C  \n",
       "6                          Library name: b12-month-BC-dscHiC  \n",
       "7                 Library name: mESC_dscHi-C_multiome_biotin  \n",
       "8   Library name: mESC_dscHi-C_Multiome_biotin_second_RT_RNA  \n",
       "9              Library name: mESC_dscHi-C_multiome_no_biotin  \n",
       "10         Library name: mESC_dscHi-C_Multiome_no_biotin_RNA  \n",
       "11                     Library name: b3-month-BC-dscHiC-gDNA  \n",
       "12                      Library name: b3-month-BC-dscHiC-RNA  \n",
       "13                         Library name: b23-month-BC-dscHiC  \n",
       "14                          Library name: b3-month-BC-dscHiC  "
      ]
     },
     "metadata": {},
     "output_type": "display_data"
    }
   ],
   "source": [
    "samples = gse.gsms\n",
    "print(f\"Total Samples: {len(samples)}\")\n",
    "print(gse.metadata[\"title\"])\n",
    "def extract_sample_metadata(gse):\n",
    "    \"\"\"Extracts sample metadata from a GEO dataset.\"\"\"\n",
    "    metadata = []\n",
    "    for sample_id, sample in gse.gsms.items():\n",
    "        metadata.append({\n",
    "            \"Sample ID\": sample_id,\n",
    "            \"Title\": sample.metadata.get(\"title\", [None])[0],\n",
    "            \"Source Name\": sample.metadata.get(\"source_name_ch1\", [None])[0],\n",
    "            \"Organism\": sample.metadata.get(\"organism_ch1\", [None])[0],\n",
    "            \"Molecule\": sample.metadata.get(\"molecule_ch1\", [None])[0],\n",
    "            \"Description\": sample.metadata.get(\"description\", [None])[0]\n",
    "        })\n",
    "    return pd.DataFrame(metadata)\n",
    "\n",
    "print(gse.gsms[\"GSM8698727\"].metadata.get(\"title\"))\n",
    "print(gse.gsms[\"GSM8698727\"].metadata.get(\"title\", [None])[0])\n",
    "\n",
    "pd.set_option('display.max_colwidth', None)\n",
    "sample_df = extract_sample_metadata(gse)\n",
    "display(sample_df)"
   ]
  },
  {
   "cell_type": "markdown",
   "metadata": {},
   "source": [
    "## Step 4: Visualization - Sample Distribution"
   ]
  },
  {
   "cell_type": "code",
   "execution_count": 31,
   "metadata": {},
   "outputs": [
    {
     "data": {
      "image/png": "[encoded data removed]",
      "text/plain": [
       "<Figure size 1000x600 with 1 Axes>"
      ]
     },
     "metadata": {},
     "output_type": "display_data"
    }
   ],
   "source": [
    "plt.figure(figsize=(10, 6))\n",
    "sns.countplot(y=sample_df[\"Organism\"], order=sample_df[\"Organism\"].value_counts().index)\n",
    "plt.title(\"Sample Distribution by Organism\")\n",
    "plt.show()"
   ]
  },
  {
   "cell_type": "markdown",
   "metadata": {},
   "source": [
    "## Step 5: Save Extracted Data"
   ]
  },
  {
   "cell_type": "code",
   "execution_count": 18,
   "metadata": {},
   "outputs": [],
   "source": [
    "sample_df.to_csv(\"GSE285812_sample_metadata.csv\", index=False)"
   ]
  },
  {
   "cell_type": "markdown",
   "metadata": {},
   "source": [
    "## Step 6: Extract SRX from GEO Metadata"
   ]
  },
  {
   "cell_type": "code",
   "execution_count": 19,
   "metadata": {},
   "outputs": [],
   "source": [
    "# Function to extract SRX from the GEO metadata\n",
    "def extract_srx_from_gse(gse):\n",
    "    \"\"\"\n",
    "    Extract SRX (Experiment IDs) from GSM metadata.\n",
    "    Returns a dictionary mapping GSM IDs to their corresponding SRX.\n",
    "    \"\"\"\n",
    "    srx_mapping = {}\n",
    "\n",
    "    for gsm_id, gsm in gse.gsms.items():\n",
    "        relations = gsm.metadata.get(\"relation\", [])\n",
    "        for relation in relations:\n",
    "            if \"SRA:\" in relation:\n",
    "                srx_id = relation.split(\"SRA:\")[-1].strip()\n",
    "                if \"https://www.ncbi.nlm.nih.gov/sra?term=\" in srx_id:\n",
    "                    srx_id = srx_id.split(\"term=\")[-1]\n",
    "                srx_mapping[gsm_id] = srx_id\n",
    "    return srx_mapping"
   ]
  },
  {
   "cell_type": "markdown",
   "metadata": {},
   "source": [
    "## Step 7: Extract SRR from SRX"
   ]
  },
  {
   "cell_type": "code",
   "execution_count": 20,
   "metadata": {},
   "outputs": [],
   "source": [
    "# Function to fetch SRR runs from an SRX experiment\n",
    "def fetch_srr_from_srx(srx_id):\n",
    "    \"\"\"\n",
    "    Queries SRA for SRR (Run IDs) using the SRX Experiment ID.\n",
    "    \"\"\"\n",
    "    url = f\"https://www.ncbi.nlm.nih.gov/sra/?term={srx_id}\"\n",
    "    response = requests.get(url)\n",
    "    if response.status_code != 200:\n",
    "        print(f\"Failed to fetch {srx_id}\")\n",
    "        return []\n",
    "\n",
    "    soup = BeautifulSoup(response.text, \"html.parser\")\n",
    "    srr_list = []\n",
    "    \n",
    "    # Search for SRR links\n",
    "    for link in soup.find_all(\"a\"):\n",
    "        if \"SRR\" in link.text:\n",
    "            srr_list.append(link.text.strip())\n",
    "\n",
    "    return srr_list"
   ]
  },
  {
   "cell_type": "markdown",
   "metadata": {},
   "source": [
    "## Step 8: Loading GEO Dataset of Interest"
   ]
  },
  {
   "cell_type": "code",
   "execution_count": 21,
   "metadata": {},
   "outputs": [
    {
     "name": "stderr",
     "output_type": "stream",
     "text": [
      "28-Feb-2025 15:02:46 DEBUG utils - Directory ./GEO/ already exists. Skipping.\n",
      "28-Feb-2025 15:02:46 INFO GEOparse - File already exist: using local version.\n",
      "28-Feb-2025 15:02:46 INFO GEOparse - Parsing ./GEO/GSE285812_family.soft.gz: \n",
      "28-Feb-2025 15:02:46 DEBUG GEOparse - DATABASE: GeoMiame\n",
      "28-Feb-2025 15:02:46 DEBUG GEOparse - SERIES: GSE285812\n",
      "28-Feb-2025 15:02:46 DEBUG GEOparse - PLATFORM: GPL24247\n",
      "28-Feb-2025 15:02:46 DEBUG GEOparse - PLATFORM: GPL24676\n",
      "28-Feb-2025 15:02:46 DEBUG GEOparse - SAMPLE: GSM8698727\n",
      "28-Feb-2025 15:02:46 DEBUG GEOparse - SAMPLE: GSM8698728\n",
      "28-Feb-2025 15:02:46 DEBUG GEOparse - SAMPLE: GSM8698729\n",
      "28-Feb-2025 15:02:46 DEBUG GEOparse - SAMPLE: GSM8698730\n",
      "28-Feb-2025 15:02:46 DEBUG GEOparse - SAMPLE: GSM8698731\n",
      "28-Feb-2025 15:02:46 DEBUG GEOparse - SAMPLE: GSM8698732\n",
      "28-Feb-2025 15:02:46 DEBUG GEOparse - SAMPLE: GSM8698919\n",
      "28-Feb-2025 15:02:46 DEBUG GEOparse - SAMPLE: GSM8698920\n",
      "28-Feb-2025 15:02:46 DEBUG GEOparse - SAMPLE: GSM8698921\n",
      "28-Feb-2025 15:02:46 DEBUG GEOparse - SAMPLE: GSM8698922\n",
      "28-Feb-2025 15:02:46 DEBUG GEOparse - SAMPLE: GSM8698923\n",
      "28-Feb-2025 15:02:46 DEBUG GEOparse - SAMPLE: GSM8698924\n",
      "28-Feb-2025 15:02:46 DEBUG GEOparse - SAMPLE: GSM8698925\n",
      "28-Feb-2025 15:02:46 DEBUG GEOparse - SAMPLE: GSM8709603\n",
      "28-Feb-2025 15:02:46 DEBUG GEOparse - SAMPLE: GSM8709626\n"
     ]
    }
   ],
   "source": [
    "# Load the GEO dataset (Change the accession number as needed)\n",
    "geo_id = \"GSE285812\"\n",
    "gse = GEOparse.get_GEO(geo=geo_id, destdir=\"./GEO/\")"
   ]
  },
  {
   "cell_type": "markdown",
   "metadata": {},
   "source": [
    "## Step 9: Perform Querries"
   ]
  },
  {
   "cell_type": "code",
   "execution_count": 22,
   "metadata": {},
   "outputs": [
    {
     "name": "stdout",
     "output_type": "stream",
     "text": [
      "Fetching SRR for GSM8698727 -> SRX27171371...\n",
      "Fetching SRR for GSM8698728 -> SRX27171372...\n",
      "Fetching SRR for GSM8698729 -> SRX27171373...\n",
      "Fetching SRR for GSM8698730 -> SRX27171374...\n",
      "Fetching SRR for GSM8698731 -> SRX27171375...\n",
      "Fetching SRR for GSM8698732 -> SRX27171376...\n",
      "Fetching SRR for GSM8698919 -> SRX27175014...\n",
      "Fetching SRR for GSM8698920 -> SRX27175667...\n",
      "Fetching SRR for GSM8698921 -> SRX27175668...\n",
      "Fetching SRR for GSM8698922 -> SRX27175669...\n",
      "Fetching SRR for GSM8698923 -> SRX27175670...\n",
      "Fetching SRR for GSM8698924 -> SRX27175671...\n",
      "Fetching SRR for GSM8698925 -> SRX27175672...\n",
      "Fetching SRR for GSM8709603 -> SRX27243324...\n",
      "Fetching SRR for GSM8709626 -> SRX27243557...\n"
     ]
    }
   ],
   "source": [
    "# Step 1: Extract GSM -> SRX mapping\n",
    "gsm_to_srx = extract_srx_from_gse(gse)\n",
    "\n",
    "# Step 2: Query SRA to get SRR IDs\n",
    "geo_sra_data = []\n",
    "for gsm, srx in gsm_to_srx.items():\n",
    "    print(f\"Fetching SRR for {gsm} -> {srx}...\")\n",
    "    srr_ids = fetch_srr_from_srx(srx)\n",
    "    time.sleep(2)  # Avoid rate limits\n",
    "    geo_sra_data.append({\n",
    "        \"GSM_ID\": gsm,\n",
    "        \"SRX_ID\": srx,\n",
    "        \"SRR_IDs\": \", \".join(srr_ids) if srr_ids else \"No SRRs found\"\n",
    "    })"
   ]
  },
  {
   "cell_type": "markdown",
   "metadata": {},
   "source": [
    "## Step 10: Save Data"
   ]
  },
  {
   "cell_type": "code",
   "execution_count": 27,
   "metadata": {},
   "outputs": [],
   "source": [
    "# Convert to DataFrame\n",
    "geo_sra_df = pd.DataFrame(geo_sra_data)\n",
    "\n",
    "# Display the structured DataFrame\n",
    "display(name=\"GEO SRA Data\", dataframe=geo_sra_df)\n",
    "\n",
    "# Save to CSV\n",
    "output_csv_name = os.path.join(\"./GEO/\", f\"{geo_id}_sra_metadata.csv\")\n",
    "geo_sra_df.to_csv(output_csv_name, index=False)"
   ]
  },
  {
   "cell_type": "markdown",
   "metadata": {},
   "source": [
    "## Huge Class Test"
   ]
  },
  {
   "cell_type": "code",
   "execution_count": 5,
   "metadata": {},
   "outputs": [
    {
     "name": "stdout",
     "output_type": "stream",
     "text": [
      "/Users/egg/Projects/Bloom\n"
     ]
    }
   ],
   "source": [
    "# Import GeoDataDownloader from here\n",
    "\n",
    "import sys\n",
    "from pathlib import Path\n",
    "\n",
    "# Define the base path of your project\n",
    "project_root = Path().resolve().parent  # Moves one level up from /notebooks/\n",
    "\n",
    "print(project_root)\n",
    "# Add project root to sys.path\n",
    "sys.path.append(str(project_root))\n",
    "\n",
    "# Now you can import the module\n",
    "from data.geo_sra_downloader import GEODataDownloader"
   ]
  },
  {
   "cell_type": "code",
   "execution_count": 6,
   "metadata": {},
   "outputs": [
    {
     "name": "stderr",
     "output_type": "stream",
     "text": [
      "01-Mar-2025 16:10:36 DEBUG utils - Directory /Users/egg/Projects/Bloom/data/raw/GSE285812_temp already exists. Skipping.\n",
      "01-Mar-2025 16:10:36 INFO GEOparse - Downloading ftp://ftp.ncbi.nlm.nih.gov/geo/series/GSE285nnn/GSE285812/soft/GSE285812_family.soft.gz to /Users/egg/Projects/Bloom/data/raw/GSE285812_temp/GSE285812_family.soft.gz\n"
     ]
    },
    {
     "name": "stdout",
     "output_type": "stream",
     "text": [
      "Fetching GEO dataset: GSE285812\n"
     ]
    },
    {
     "name": "stderr",
     "output_type": "stream",
     "text": [
      "01-Mar-2025 16:11:06 ERROR downloader - Error when quiting FTP server.\n",
      "Traceback (most recent call last):\n",
      "  File \"/Users/egg/micromamba/envs/bio/lib/python3.12/site-packages/GEOparse/downloader.py\", line 148, in _download_ftp\n",
      "    ftp = FTP(parsed_url.netloc)\n",
      "          ^^^^^^^^^^^^^^^^^^^^^^\n",
      "  File \"/Users/egg/micromamba/envs/bio/lib/python3.12/ftplib.py\", line 121, in __init__\n",
      "    self.connect(host)\n",
      "  File \"/Users/egg/micromamba/envs/bio/lib/python3.12/ftplib.py\", line 158, in connect\n",
      "    self.sock = socket.create_connection((self.host, self.port), self.timeout,\n",
      "                ^^^^^^^^^^^^^^^^^^^^^^^^^^^^^^^^^^^^^^^^^^^^^^^^^^^^^^^^^^^^^^\n",
      "  File \"/Users/egg/micromamba/envs/bio/lib/python3.12/socket.py\", line 841, in create_connection\n",
      "    for res in getaddrinfo(host, port, 0, SOCK_STREAM):\n",
      "               ^^^^^^^^^^^^^^^^^^^^^^^^^^^^^^^^^^^^^^^\n",
      "  File \"/Users/egg/micromamba/envs/bio/lib/python3.12/socket.py\", line 978, in getaddrinfo\n",
      "    for res in _socket.getaddrinfo(host, port, family, type, proto, flags):\n",
      "               ^^^^^^^^^^^^^^^^^^^^^^^^^^^^^^^^^^^^^^^^^^^^^^^^^^^^^^^^^^^\n",
      "socket.gaierror: [Errno 8] nodename nor servname provided, or not known\n",
      "\n",
      "During handling of the above exception, another exception occurred:\n",
      "\n",
      "Traceback (most recent call last):\n",
      "  File \"/Users/egg/micromamba/envs/bio/lib/python3.12/site-packages/GEOparse/downloader.py\", line 181, in _download_ftp\n",
      "    ftp.quit()\n",
      "    ^^^\n",
      "UnboundLocalError: cannot access local variable 'ftp' where it is not associated with a value\n",
      "01-Mar-2025 16:11:06 DEBUG downloader - Moving /var/folders/xp/g59rxjvd2jbgkq0203smhgm40000gn/T/tmpbb2v5i9x to /Users/egg/Projects/Bloom/data/raw/GSE285812_temp/GSE285812_family.soft.gz\n"
     ]
    },
    {
     "ename": "RuntimeError",
     "evalue": "Failed to fetch GEO dataset GSE285812: Download failed due to '[Errno 2] No such file or directory: '/var/folders/xp/g59rxjvd2jbgkq0203smhgm40000gn/T/tmpbb2v5i9x''. ID could be incorrect or the data might not be public yet.",
     "output_type": "error",
     "traceback": [
      "\u001b[0;31m---------------------------------------------------------------------------\u001b[0m",
      "\u001b[0;31mFileNotFoundError\u001b[0m                         Traceback (most recent call last)",
      "File \u001b[0;32m~/micromamba/envs/bio/lib/python3.12/site-packages/GEOparse/utils.py:80\u001b[0m, in \u001b[0;36mdownload_from_url\u001b[0;34m(url, destination_path, force, aspera, silent)\u001b[0m\n\u001b[1;32m     79\u001b[0m     \u001b[38;5;28;01melse\u001b[39;00m:\n\u001b[0;32m---> 80\u001b[0m         \u001b[43mfn\u001b[49m\u001b[38;5;241;43m.\u001b[39;49m\u001b[43mdownload\u001b[49m\u001b[43m(\u001b[49m\u001b[43msilent\u001b[49m\u001b[38;5;241;43m=\u001b[39;49m\u001b[43msilent\u001b[49m\u001b[43m,\u001b[49m\u001b[43m \u001b[49m\u001b[43mforce\u001b[49m\u001b[38;5;241;43m=\u001b[39;49m\u001b[43mforce\u001b[49m\u001b[43m)\u001b[49m\n\u001b[1;32m     81\u001b[0m \u001b[38;5;28;01mexcept\u001b[39;00m \u001b[38;5;167;01mException\u001b[39;00m \u001b[38;5;28;01mas\u001b[39;00m err:\n",
      "File \u001b[0;32m~/micromamba/envs/bio/lib/python3.12/site-packages/GEOparse/downloader.py:82\u001b[0m, in \u001b[0;36mDownloader.download\u001b[0;34m(self, force, silent)\u001b[0m\n\u001b[1;32m     81\u001b[0m     \u001b[38;5;28;01melse\u001b[39;00m:\n\u001b[0;32m---> 82\u001b[0m         \u001b[43m_download\u001b[49m\u001b[43m(\u001b[49m\u001b[43m)\u001b[49m\n\u001b[1;32m     83\u001b[0m \u001b[38;5;28;01mfinally\u001b[39;00m:\n",
      "File \u001b[0;32m~/micromamba/envs/bio/lib/python3.12/site-packages/GEOparse/downloader.py:57\u001b[0m, in \u001b[0;36mDownloader.download.<locals>._download\u001b[0;34m()\u001b[0m\n\u001b[1;32m     56\u001b[0m logger\u001b[38;5;241m.\u001b[39mdebug(\u001b[38;5;124m\"\u001b[39m\u001b[38;5;124mMoving \u001b[39m\u001b[38;5;132;01m%s\u001b[39;00m\u001b[38;5;124m to \u001b[39m\u001b[38;5;132;01m%s\u001b[39;00m\u001b[38;5;124m\"\u001b[39m \u001b[38;5;241m%\u001b[39m (\u001b[38;5;28mself\u001b[39m\u001b[38;5;241m.\u001b[39m_temp_file_name, \u001b[38;5;28mself\u001b[39m\u001b[38;5;241m.\u001b[39mdestination))\n\u001b[0;32m---> 57\u001b[0m \u001b[43mshutil\u001b[49m\u001b[38;5;241;43m.\u001b[39;49m\u001b[43mcopyfile\u001b[49m\u001b[43m(\u001b[49m\u001b[38;5;28;43mself\u001b[39;49m\u001b[38;5;241;43m.\u001b[39;49m\u001b[43m_temp_file_name\u001b[49m\u001b[43m,\u001b[49m\u001b[43m \u001b[49m\u001b[38;5;28;43mself\u001b[39;49m\u001b[38;5;241;43m.\u001b[39;49m\u001b[43mdestination\u001b[49m\u001b[43m)\u001b[49m\n\u001b[1;32m     58\u001b[0m logger\u001b[38;5;241m.\u001b[39mdebug(\u001b[38;5;124m\"\u001b[39m\u001b[38;5;124mSuccessfully downloaded \u001b[39m\u001b[38;5;132;01m%s\u001b[39;00m\u001b[38;5;124m\"\u001b[39m \u001b[38;5;241m%\u001b[39m \u001b[38;5;28mself\u001b[39m\u001b[38;5;241m.\u001b[39murl)\n",
      "File \u001b[0;32m~/micromamba/envs/bio/lib/python3.12/shutil.py:260\u001b[0m, in \u001b[0;36mcopyfile\u001b[0;34m(src, dst, follow_symlinks)\u001b[0m\n\u001b[1;32m    259\u001b[0m \u001b[38;5;28;01melse\u001b[39;00m:\n\u001b[0;32m--> 260\u001b[0m     \u001b[38;5;28;01mwith\u001b[39;00m \u001b[38;5;28;43mopen\u001b[39;49m\u001b[43m(\u001b[49m\u001b[43msrc\u001b[49m\u001b[43m,\u001b[49m\u001b[43m \u001b[49m\u001b[38;5;124;43m'\u001b[39;49m\u001b[38;5;124;43mrb\u001b[39;49m\u001b[38;5;124;43m'\u001b[39;49m\u001b[43m)\u001b[49m \u001b[38;5;28;01mas\u001b[39;00m fsrc:\n\u001b[1;32m    261\u001b[0m         \u001b[38;5;28;01mtry\u001b[39;00m:\n",
      "\u001b[0;31mFileNotFoundError\u001b[0m: [Errno 2] No such file or directory: '/var/folders/xp/g59rxjvd2jbgkq0203smhgm40000gn/T/tmpbb2v5i9x'",
      "\nDuring handling of the above exception, another exception occurred:\n",
      "\u001b[0;31mOSError\u001b[0m                                   Traceback (most recent call last)",
      "File \u001b[0;32m~/Projects/Bloom/data/geo_sra_downloader.py:389\u001b[0m, in \u001b[0;36mGEODataDownloader._fetch_gse_data\u001b[0;34m(self)\u001b[0m\n\u001b[1;32m    387\u001b[0m \u001b[38;5;28;01mtry\u001b[39;00m:\n\u001b[1;32m    388\u001b[0m     \u001b[38;5;66;03m# Fetch GEO dataset, storing it in a temporary directory\u001b[39;00m\n\u001b[0;32m--> 389\u001b[0m     gse \u001b[38;5;241m=\u001b[39m \u001b[43mGEOparse\u001b[49m\u001b[38;5;241;43m.\u001b[39;49m\u001b[43mget_GEO\u001b[49m\u001b[43m(\u001b[49m\u001b[43mgeo\u001b[49m\u001b[38;5;241;43m=\u001b[39;49m\u001b[38;5;28;43mself\u001b[39;49m\u001b[38;5;241;43m.\u001b[39;49m\u001b[43mgeo_id\u001b[49m\u001b[43m,\u001b[49m\u001b[43m \u001b[49m\u001b[43mdestdir\u001b[49m\u001b[38;5;241;43m=\u001b[39;49m\u001b[38;5;28;43mstr\u001b[39;49m\u001b[43m(\u001b[49m\u001b[38;5;28;43mself\u001b[39;49m\u001b[38;5;241;43m.\u001b[39;49m\u001b[43m_temp_file_name\u001b[49m\u001b[43m)\u001b[49m\u001b[43m)\u001b[49m\n\u001b[1;32m    391\u001b[0m     \u001b[38;5;28mprint\u001b[39m(\u001b[38;5;124mf\u001b[39m\u001b[38;5;124m\"\u001b[39m\u001b[38;5;124mSuccessfully fetched GEO dataset: \u001b[39m\u001b[38;5;132;01m{\u001b[39;00m\u001b[38;5;28mself\u001b[39m\u001b[38;5;241m.\u001b[39mgeo_id\u001b[38;5;132;01m}\u001b[39;00m\u001b[38;5;124m\"\u001b[39m)\n",
      "File \u001b[0;32m~/micromamba/envs/bio/lib/python3.12/site-packages/GEOparse/GEOparse.py:96\u001b[0m, in \u001b[0;36mget_GEO\u001b[0;34m(geo, filepath, destdir, how, annotate_gpl, geotype, include_data, silent, aspera, partial, open_kwargs)\u001b[0m\n\u001b[1;32m     95\u001b[0m \u001b[38;5;28;01mif\u001b[39;00m filepath \u001b[38;5;129;01mis\u001b[39;00m \u001b[38;5;28;01mNone\u001b[39;00m:\n\u001b[0;32m---> 96\u001b[0m     filepath, geotype \u001b[38;5;241m=\u001b[39m \u001b[43mget_GEO_file\u001b[49m\u001b[43m(\u001b[49m\n\u001b[1;32m     97\u001b[0m \u001b[43m        \u001b[49m\u001b[43mgeo\u001b[49m\u001b[43m,\u001b[49m\n\u001b[1;32m     98\u001b[0m \u001b[43m        \u001b[49m\u001b[43mdestdir\u001b[49m\u001b[38;5;241;43m=\u001b[39;49m\u001b[43mdestdir\u001b[49m\u001b[43m,\u001b[49m\n\u001b[1;32m     99\u001b[0m \u001b[43m        \u001b[49m\u001b[43mhow\u001b[49m\u001b[38;5;241;43m=\u001b[39;49m\u001b[43mhow\u001b[49m\u001b[43m,\u001b[49m\n\u001b[1;32m    100\u001b[0m \u001b[43m        \u001b[49m\u001b[43mannotate_gpl\u001b[49m\u001b[38;5;241;43m=\u001b[39;49m\u001b[43mannotate_gpl\u001b[49m\u001b[43m,\u001b[49m\n\u001b[1;32m    101\u001b[0m \u001b[43m        \u001b[49m\u001b[43minclude_data\u001b[49m\u001b[38;5;241;43m=\u001b[39;49m\u001b[43minclude_data\u001b[49m\u001b[43m,\u001b[49m\n\u001b[1;32m    102\u001b[0m \u001b[43m        \u001b[49m\u001b[43msilent\u001b[49m\u001b[38;5;241;43m=\u001b[39;49m\u001b[43msilent\u001b[49m\u001b[43m,\u001b[49m\n\u001b[1;32m    103\u001b[0m \u001b[43m        \u001b[49m\u001b[43maspera\u001b[49m\u001b[38;5;241;43m=\u001b[39;49m\u001b[43maspera\u001b[49m\u001b[43m,\u001b[49m\n\u001b[1;32m    104\u001b[0m \u001b[43m    \u001b[49m\u001b[43m)\u001b[49m\n\u001b[1;32m    105\u001b[0m \u001b[38;5;28;01melse\u001b[39;00m:\n",
      "File \u001b[0;32m~/micromamba/envs/bio/lib/python3.12/site-packages/GEOparse/GEOparse.py:263\u001b[0m, in \u001b[0;36mget_GEO_file\u001b[0;34m(geo, destdir, annotate_gpl, how, include_data, silent, aspera)\u001b[0m\n\u001b[1;32m    262\u001b[0m     logger\u001b[38;5;241m.\u001b[39minfo(\u001b[38;5;124m\"\u001b[39m\u001b[38;5;124mDownloading \u001b[39m\u001b[38;5;132;01m%s\u001b[39;00m\u001b[38;5;124m to \u001b[39m\u001b[38;5;132;01m%s\u001b[39;00m\u001b[38;5;124m\"\u001b[39m \u001b[38;5;241m%\u001b[39m (url, filepath))\n\u001b[0;32m--> 263\u001b[0m     \u001b[43mutils\u001b[49m\u001b[38;5;241;43m.\u001b[39;49m\u001b[43mdownload_from_url\u001b[49m\u001b[43m(\u001b[49m\u001b[43murl\u001b[49m\u001b[43m,\u001b[49m\u001b[43m \u001b[49m\u001b[43mfilepath\u001b[49m\u001b[43m,\u001b[49m\u001b[43m \u001b[49m\u001b[43msilent\u001b[49m\u001b[38;5;241;43m=\u001b[39;49m\u001b[43msilent\u001b[49m\u001b[43m,\u001b[49m\u001b[43m \u001b[49m\u001b[43maspera\u001b[49m\u001b[38;5;241;43m=\u001b[39;49m\u001b[43maspera\u001b[49m\u001b[43m)\u001b[49m\n\u001b[1;32m    264\u001b[0m \u001b[38;5;28;01melse\u001b[39;00m:\n",
      "File \u001b[0;32m~/micromamba/envs/bio/lib/python3.12/site-packages/GEOparse/utils.py:82\u001b[0m, in \u001b[0;36mdownload_from_url\u001b[0;34m(url, destination_path, force, aspera, silent)\u001b[0m\n\u001b[1;32m     81\u001b[0m \u001b[38;5;28;01mexcept\u001b[39;00m \u001b[38;5;167;01mException\u001b[39;00m \u001b[38;5;28;01mas\u001b[39;00m err:\n\u001b[0;32m---> 82\u001b[0m     \u001b[38;5;28;01mraise\u001b[39;00m \u001b[38;5;167;01mIOError\u001b[39;00m(\n\u001b[1;32m     83\u001b[0m         \u001b[38;5;124m\"\u001b[39m\u001b[38;5;124mDownload failed due to \u001b[39m\u001b[38;5;124m'\u001b[39m\u001b[38;5;132;01m%s\u001b[39;00m\u001b[38;5;124m'\u001b[39m\u001b[38;5;124m. ID could be incorrect or the \u001b[39m\u001b[38;5;124m\"\u001b[39m \u001b[38;5;241m%\u001b[39m err\n\u001b[1;32m     84\u001b[0m         \u001b[38;5;241m+\u001b[39m \u001b[38;5;124m\"\u001b[39m\u001b[38;5;124mdata might not be public yet.\u001b[39m\u001b[38;5;124m\"\u001b[39m\n\u001b[1;32m     85\u001b[0m     )\n",
      "\u001b[0;31mOSError\u001b[0m: Download failed due to '[Errno 2] No such file or directory: '/var/folders/xp/g59rxjvd2jbgkq0203smhgm40000gn/T/tmpbb2v5i9x''. ID could be incorrect or the data might not be public yet.",
      "\nDuring handling of the above exception, another exception occurred:\n",
      "\u001b[0;31mRuntimeError\u001b[0m                              Traceback (most recent call last)",
      "Cell \u001b[0;32mIn[6], line 4\u001b[0m\n\u001b[1;32m      2\u001b[0m gse_id \u001b[38;5;241m=\u001b[39m \u001b[38;5;124m\"\u001b[39m\u001b[38;5;124mGSE285812\u001b[39m\u001b[38;5;124m\"\u001b[39m\n\u001b[1;32m      3\u001b[0m path_location \u001b[38;5;241m=\u001b[39m \u001b[38;5;124m\"\u001b[39m\u001b[38;5;124m/Users/egg/Projects/Bloom/data/raw\u001b[39m\u001b[38;5;124m\"\u001b[39m\n\u001b[0;32m----> 4\u001b[0m geo \u001b[38;5;241m=\u001b[39m \u001b[43mGEODataDownloader\u001b[49m\u001b[43m(\u001b[49m\u001b[43mgse_id\u001b[49m\u001b[43m,\u001b[49m\u001b[43m \u001b[49m\u001b[43mpath_location\u001b[49m\u001b[43m)\u001b[49m\n\u001b[1;32m      5\u001b[0m \u001b[38;5;28mprint\u001b[39m(geo)\n\u001b[1;32m      6\u001b[0m geo\u001b[38;5;241m.\u001b[39mcreate_metadata_table()\n",
      "File \u001b[0;32m~/Projects/Bloom/data/geo_sra_downloader.py:99\u001b[0m, in \u001b[0;36mGEODataDownloader.__init__\u001b[0;34m(self, geo_id, output_dir)\u001b[0m\n\u001b[1;32m     97\u001b[0m \u001b[38;5;28mself\u001b[39m\u001b[38;5;241m.\u001b[39mmetadata_table \u001b[38;5;241m=\u001b[39m \u001b[38;5;28;01mNone\u001b[39;00m  \u001b[38;5;66;03m# Placeholder for metadata table\u001b[39;00m\n\u001b[1;32m     98\u001b[0m \u001b[38;5;28;01mif\u001b[39;00m \u001b[38;5;28mself\u001b[39m\u001b[38;5;241m.\u001b[39m_is_gse():\n\u001b[0;32m---> 99\u001b[0m     \u001b[38;5;28mself\u001b[39m\u001b[38;5;241m.\u001b[39m_gse \u001b[38;5;241m=\u001b[39m \u001b[38;5;28;43mself\u001b[39;49m\u001b[38;5;241;43m.\u001b[39;49m\u001b[43m_fetch_gse_data\u001b[49m\u001b[43m(\u001b[49m\u001b[43m)\u001b[49m\n",
      "File \u001b[0;32m~/Projects/Bloom/data/geo_sra_downloader.py:395\u001b[0m, in \u001b[0;36mGEODataDownloader._fetch_gse_data\u001b[0;34m(self)\u001b[0m\n\u001b[1;32m    392\u001b[0m     \u001b[38;5;28;01mreturn\u001b[39;00m gse\n\u001b[1;32m    394\u001b[0m \u001b[38;5;28;01mexcept\u001b[39;00m \u001b[38;5;167;01mException\u001b[39;00m \u001b[38;5;28;01mas\u001b[39;00m e:\n\u001b[0;32m--> 395\u001b[0m     \u001b[38;5;28;01mraise\u001b[39;00m \u001b[38;5;167;01mRuntimeError\u001b[39;00m(\u001b[38;5;124mf\u001b[39m\u001b[38;5;124m\"\u001b[39m\u001b[38;5;124mFailed to fetch GEO dataset \u001b[39m\u001b[38;5;132;01m{\u001b[39;00m\u001b[38;5;28mself\u001b[39m\u001b[38;5;241m.\u001b[39mgeo_id\u001b[38;5;132;01m}\u001b[39;00m\u001b[38;5;124m: \u001b[39m\u001b[38;5;132;01m{\u001b[39;00me\u001b[38;5;132;01m}\u001b[39;00m\u001b[38;5;124m\"\u001b[39m)\n",
      "\u001b[0;31mRuntimeError\u001b[0m: Failed to fetch GEO dataset GSE285812: Download failed due to '[Errno 2] No such file or directory: '/var/folders/xp/g59rxjvd2jbgkq0203smhgm40000gn/T/tmpbb2v5i9x''. ID could be incorrect or the data might not be public yet."
     ]
    }
   ],
   "source": [
    "# Test if it works\n",
    "gse_id = \"GSE285812\"\n",
    "path_location = \"/Users/egg/Projects/Bloom/data/raw\"\n",
    "geo = GEODataDownloader(gse_id, path_location)\n",
    "print(geo)\n",
    "geo.create_metadata_table()"
   ]
  },
  {
   "cell_type": "code",
   "execution_count": 5,
   "metadata": {},
   "outputs": [
    {
     "name": "stdout",
     "output_type": "stream",
     "text": [
      "Logical CPUs: 10\n",
      "Physical CPUs: 10\n"
     ]
    }
   ],
   "source": [
    "import os\n",
    "import multiprocessing\n",
    "\n",
    "# Number of logical cores\n",
    "print(\"Logical CPUs:\", os.cpu_count())\n",
    "\n",
    "# Number of physical cores (for some systems)\n",
    "print(\"Physical CPUs:\", multiprocessing.cpu_count())"
   ]
  },
  {
   "cell_type": "code",
   "execution_count": null,
   "metadata": {},
   "outputs": [],
   "source": [
    "# geo.download_raw_data(num_workers = 5)"
   ]
  },
  {
   "cell_type": "code",
   "execution_count": null,
   "metadata": {},
   "outputs": [],
   "source": []
  }
 ],
 "metadata": {
  "kernelspec": {
   "display_name": "Python 3 (ipykernel)",
   "language": "python",
   "name": "python3"
  },
  "language_info": {
   "codemirror_mode": {
    "name": "ipython",
    "version": 3
   },
   "file_extension": ".py",
   "mimetype": "text/x-python",
   "name": "python",
   "nbconvert_exporter": "python",
   "pygments_lexer": "ipython3",
   "version": "3.12.9"
  }
 },
 "nbformat": 4,
 "nbformat_minor": 4
}
