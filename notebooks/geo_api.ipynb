{
 "cells": [
  {
   "cell_type": "markdown",
   "metadata": {},
   "source": [
    "## Jupyter Notebook: Exploring GEO API\n",
    "\n",
    "This notebook will guide you through retrieving and analyzing GEO datasets using the GEO API."
   ]
  },
  {
   "cell_type": "code",
   "execution_count": null,
   "metadata": {},
   "outputs": [],
   "source": [
    "# Install dependencies (Run this cell first)\n",
    "!pip install GEOparse pandas matplotlib seaborn"
   ]
  },
  {
   "cell_type": "code",
   "execution_count": null,
   "metadata": {},
   "outputs": [],
   "source": [
    "# Import necessary libraries\n",
    "import os\n",
    "import time\n",
    "import requests\n",
    "import GEOparse\n",
    "import pandas as pd\n",
    "import seaborn as sns\n",
    "from bs4 import BeautifulSoup\n",
    "import matplotlib.pyplot as plt\n",
    "from IPython.display import display"
   ]
  },
  {
   "cell_type": "markdown",
   "metadata": {},
   "source": [
    "## Step 1: Retrieve a GEO Dataset (GSE Accession Number)"
   ]
  },
  {
   "cell_type": "code",
   "execution_count": null,
   "metadata": {},
   "outputs": [],
   "source": [
    "def fetch_gse_data(accession_id):\n",
    "    \"\"\"Fetches GEO Series data for a given accession ID.\"\"\"\n",
    "    print(f\"Fetching {accession_id} from GEO...\")\n",
    "    gse = GEOparse.get_GEO(geo=accession_id, destdir=\"./GEO/\")\n",
    "    print(f\"Fetched {accession_id} Successfully!\")\n",
    "    return gse\n",
    "\n",
    "# Example usage: Fetch GSE285812\n",
    "gse = fetch_gse_data(\"GSE285812\")"
   ]
  },
  {
   "cell_type": "markdown",
   "metadata": {},
   "source": [
    "## Step 2: Extract Metadata"
   ]
  },
  {
   "cell_type": "code",
   "execution_count": null,
   "metadata": {},
   "outputs": [],
   "source": [
    "print(\"Dataset Title:\", gse.metadata[\"title\"])\n",
    "print(\"Dataset Summary:\", gse.metadata[\"summary\"])\n",
    "print(\"Dataset Overall Design:\", gse.metadata[\"overall_design\"])\n",
    "for item in gse.gsms:\n",
    "    print(item)"
   ]
  },
  {
   "cell_type": "markdown",
   "metadata": {},
   "source": [
    "## Step 3: Extract Sample Information"
   ]
  },
  {
   "cell_type": "code",
   "execution_count": null,
   "metadata": {},
   "outputs": [],
   "source": [
    "samples = gse.gsms\n",
    "print(f\"Total Samples: {len(samples)}\")\n",
    "print(gse.metadata[\"title\"])\n",
    "def extract_sample_metadata(gse):\n",
    "    \"\"\"Extracts sample metadata from a GEO dataset.\"\"\"\n",
    "    metadata = []\n",
    "    for sample_id, sample in gse.gsms.items():\n",
    "        metadata.append({\n",
    "            \"Sample ID\": sample_id,\n",
    "            \"Title\": sample.metadata.get(\"title\", [None])[0],\n",
    "            \"Source Name\": sample.metadata.get(\"source_name_ch1\", [None])[0],\n",
    "            \"Organism\": sample.metadata.get(\"organism_ch1\", [None])[0],\n",
    "            \"Molecule\": sample.metadata.get(\"molecule_ch1\", [None])[0],\n",
    "            \"Description\": sample.metadata.get(\"description\", [None])[0]\n",
    "        })\n",
    "    return pd.DataFrame(metadata)\n",
    "\n",
    "print(gse.gsms[\"GSM8698727\"].metadata.get(\"title\"))\n",
    "print(gse.gsms[\"GSM8698727\"].metadata.get(\"title\", [None])[0])\n",
    "\n",
    "pd.set_option('display.max_colwidth', None)\n",
    "sample_df = extract_sample_metadata(gse)\n",
    "display(sample_df)"
   ]
  },
  {
   "cell_type": "markdown",
   "metadata": {},
   "source": [
    "## Step 4: Visualization - Sample Distribution"
   ]
  },
  {
   "cell_type": "code",
   "execution_count": null,
   "metadata": {},
   "outputs": [],
   "source": [
    "plt.figure(figsize=(10, 6))\n",
    "sns.countplot(y=sample_df[\"Organism\"], order=sample_df[\"Organism\"].value_counts().index)\n",
    "plt.title(\"Sample Distribution by Organism\")\n",
    "plt.show()"
   ]
  },
  {
   "cell_type": "markdown",
   "metadata": {},
   "source": [
    "## Step 5: Save Extracted Data"
   ]
  },
  {
   "cell_type": "code",
   "execution_count": null,
   "metadata": {},
   "outputs": [],
   "source": [
    "sample_df.to_csv(\"GSE285812_sample_metadata.csv\", index=False)"
   ]
  },
  {
   "cell_type": "markdown",
   "metadata": {},
   "source": [
    "## Step 6: Extract SRX from GEO Metadata"
   ]
  },
  {
   "cell_type": "code",
   "execution_count": null,
   "metadata": {},
   "outputs": [],
   "source": [
    "# Function to extract SRX from the GEO metadata\n",
    "def extract_srx_from_gse(gse):\n",
    "    \"\"\"\n",
    "    Extract SRX (Experiment IDs) from GSM metadata.\n",
    "    Returns a dictionary mapping GSM IDs to their corresponding SRX.\n",
    "    \"\"\"\n",
    "    srx_mapping = {}\n",
    "\n",
    "    for gsm_id, gsm in gse.gsms.items():\n",
    "        relations = gsm.metadata.get(\"relation\", [])\n",
    "        for relation in relations:\n",
    "            if \"SRA:\" in relation:\n",
    "                srx_id = relation.split(\"SRA:\")[-1].strip()\n",
    "                if \"https://www.ncbi.nlm.nih.gov/sra?term=\" in srx_id:\n",
    "                    srx_id = srx_id.split(\"term=\")[-1]\n",
    "                srx_mapping[gsm_id] = srx_id\n",
    "    return srx_mapping"
   ]
  },
  {
   "cell_type": "markdown",
   "metadata": {},
   "source": [
    "## Step 7: Extract SRR from SRX"
   ]
  },
  {
   "cell_type": "code",
   "execution_count": null,
   "metadata": {},
   "outputs": [],
   "source": [
    "# Function to fetch SRR runs from an SRX experiment\n",
    "def fetch_srr_from_srx(srx_id):\n",
    "    \"\"\"\n",
    "    Queries SRA for SRR (Run IDs) using the SRX Experiment ID.\n",
    "    \"\"\"\n",
    "    url = f\"https://www.ncbi.nlm.nih.gov/sra/?term={srx_id}\"\n",
    "    response = requests.get(url)\n",
    "    if response.status_code != 200:\n",
    "        print(f\"Failed to fetch {srx_id}\")\n",
    "        return []\n",
    "\n",
    "    soup = BeautifulSoup(response.text, \"html.parser\")\n",
    "    srr_list = []\n",
    "    \n",
    "    # Search for SRR links\n",
    "    for link in soup.find_all(\"a\"):\n",
    "        if \"SRR\" in link.text:\n",
    "            srr_list.append(link.text.strip())\n",
    "\n",
    "    return srr_list"
   ]
  },
  {
   "cell_type": "markdown",
   "metadata": {},
   "source": [
    "## Step 8: Loading GEO Dataset of Interest"
   ]
  },
  {
   "cell_type": "code",
   "execution_count": null,
   "metadata": {},
   "outputs": [],
   "source": [
    "# Load the GEO dataset (Change the accession number as needed)\n",
    "geo_id = \"GSE285812\"\n",
    "gse = GEOparse.get_GEO(geo=geo_id, destdir=\"./GEO/\")"
   ]
  },
  {
   "cell_type": "markdown",
   "metadata": {},
   "source": [
    "## Step 9: Perform Querries"
   ]
  },
  {
   "cell_type": "code",
   "execution_count": null,
   "metadata": {},
   "outputs": [],
   "source": [
    "# Step 1: Extract GSM -> SRX mapping\n",
    "gsm_to_srx = extract_srx_from_gse(gse)\n",
    "\n",
    "# Step 2: Query SRA to get SRR IDs\n",
    "geo_sra_data = []\n",
    "for gsm, srx in gsm_to_srx.items():\n",
    "    print(f\"Fetching SRR for {gsm} -> {srx}...\")\n",
    "    srr_ids = fetch_srr_from_srx(srx)\n",
    "    time.sleep(2)  # Avoid rate limits\n",
    "    geo_sra_data.append({\n",
    "        \"GSM_ID\": gsm,\n",
    "        \"SRX_ID\": srx,\n",
    "        \"SRR_IDs\": \", \".join(srr_ids) if srr_ids else \"No SRRs found\"\n",
    "    })"
   ]
  },
  {
   "cell_type": "markdown",
   "metadata": {},
   "source": [
    "## Step 10: Save Data"
   ]
  },
  {
   "cell_type": "code",
   "execution_count": null,
   "metadata": {},
   "outputs": [],
   "source": [
    "# Convert to DataFrame\n",
    "geo_sra_df = pd.DataFrame(geo_sra_data)\n",
    "\n",
    "# Display the structured DataFrame\n",
    "display(name=\"GEO SRA Data\", dataframe=geo_sra_df)\n",
    "\n",
    "# Save to CSV\n",
    "output_csv_name = os.path.join(\"./GEO/\", f\"{geo_id}_sra_metadata.csv\")\n",
    "geo_sra_df.to_csv(output_csv_name, index=False)"
   ]
  },
  {
   "cell_type": "markdown",
   "metadata": {},
   "source": [
    "## NCBI-AWS Data Test"
   ]
  },
  {
   "cell_type": "code",
   "execution_count": 1,
   "metadata": {},
   "outputs": [],
   "source": [
    "import os\n",
    "import sys\n",
    "import time\n",
    "import shutil\n",
    "import requests\n",
    "import GEOparse\n",
    "import functools\n",
    "import subprocess\n",
    "import pandas as pd\n",
    "from Bio import Entrez\n",
    "from pathlib import Path\n",
    "from bs4 import BeautifulSoup\n",
    "project_root = Path().resolve().parent  # Moves to Bloom\n",
    "sys.path.append(str(project_root)) # Add Bloom to sys.path\n",
    "from bloom.data.geo_sra_downloader import GEODataDownloader"
   ]
  },
  {
   "cell_type": "code",
   "execution_count": 3,
   "metadata": {},
   "outputs": [
    {
     "name": "stderr",
     "output_type": "stream",
     "text": [
      "20-Mar-2025 17:15:38 DEBUG utils - Directory /Users/egg/Projects/Bloom/data/raw/GSE285812/GSE285812_temp already exists. Skipping.\n",
      "20-Mar-2025 17:15:38 INFO GEOparse - File already exist: using local version.\n",
      "20-Mar-2025 17:15:38 INFO GEOparse - Parsing /Users/egg/Projects/Bloom/data/raw/GSE285812/GSE285812_temp/GSE285812_family.soft.gz: \n",
      "20-Mar-2025 17:15:38 DEBUG GEOparse - DATABASE: GeoMiame\n",
      "20-Mar-2025 17:15:38 DEBUG GEOparse - SERIES: GSE285812\n",
      "20-Mar-2025 17:15:38 DEBUG GEOparse - PLATFORM: GPL24247\n",
      "20-Mar-2025 17:15:38 DEBUG GEOparse - PLATFORM: GPL24676\n",
      "20-Mar-2025 17:15:38 DEBUG GEOparse - SAMPLE: GSM8698727\n",
      "20-Mar-2025 17:15:38 DEBUG GEOparse - SAMPLE: GSM8698728\n",
      "20-Mar-2025 17:15:38 DEBUG GEOparse - SAMPLE: GSM8698729\n",
      "20-Mar-2025 17:15:38 DEBUG GEOparse - SAMPLE: GSM8698730\n",
      "20-Mar-2025 17:15:38 DEBUG GEOparse - SAMPLE: GSM8698731\n",
      "20-Mar-2025 17:15:38 DEBUG GEOparse - SAMPLE: GSM8698732\n",
      "20-Mar-2025 17:15:38 DEBUG GEOparse - SAMPLE: GSM8698919\n",
      "20-Mar-2025 17:15:38 DEBUG GEOparse - SAMPLE: GSM8698920\n",
      "20-Mar-2025 17:15:38 DEBUG GEOparse - SAMPLE: GSM8698921\n",
      "20-Mar-2025 17:15:38 DEBUG GEOparse - SAMPLE: GSM8698922\n",
      "20-Mar-2025 17:15:38 DEBUG GEOparse - SAMPLE: GSM8698923\n",
      "20-Mar-2025 17:15:38 DEBUG GEOparse - SAMPLE: GSM8698924\n",
      "20-Mar-2025 17:15:38 DEBUG GEOparse - SAMPLE: GSM8698925\n",
      "20-Mar-2025 17:15:38 DEBUG GEOparse - SAMPLE: GSM8709603\n",
      "20-Mar-2025 17:15:38 DEBUG GEOparse - SAMPLE: GSM8709626\n"
     ]
    },
    {
     "name": "stdout",
     "output_type": "stream",
     "text": [
      "Fetching GEO dataset: GSE285812\n",
      "Successfully fetched GEO dataset: GSE285812\n",
      "Cleaning up temporary files at /Users/egg/Projects/Bloom/data/raw/GSE285812/GSE285812_temp\n",
      "[GEODataDownloader] GEO ID: GSE285812 | Output Directory: /Users/egg/Projects/Bloom/data/raw/GSE285812\n"
     ]
    }
   ],
   "source": [
    "# Parameters\n",
    "geo_id = \"GSE285812\"\n",
    "download_path = \"/Users/egg/Projects/Bloom/data/raw/\"\n",
    "user_email = \"eduardogade@gmail.com\"\n",
    "api_key = \"c5087c87794c22daeb8f52d13fc5a363d108\"\n",
    "ncbi_path = \"/Users/egg/ncbi_sra/\"\n",
    "geo_downloader = GEODataDownloader(geo_id, download_path, user_email, api_key, ncbi_path)\n",
    "print(geo_downloader)"
   ]
  },
  {
   "cell_type": "code",
   "execution_count": 25,
   "metadata": {},
   "outputs": [
    {
     "name": "stdout",
     "output_type": "stream",
     "text": [
      "Collecting selenium\n",
      "  Downloading selenium-4.29.0-py3-none-any.whl.metadata (7.1 kB)\n",
      "Collecting webdriver-manager\n",
      "  Downloading webdriver_manager-4.0.2-py2.py3-none-any.whl.metadata (12 kB)\n",
      "Requirement already satisfied: urllib3<3,>=1.26 in /Users/egg/micromamba/envs/bio/lib/python3.12/site-packages (from urllib3[socks]<3,>=1.26->selenium) (1.26.20)\n",
      "Collecting trio~=0.17 (from selenium)\n",
      "  Downloading trio-0.29.0-py3-none-any.whl.metadata (8.5 kB)\n",
      "Collecting trio-websocket~=0.9 (from selenium)\n",
      "  Downloading trio_websocket-0.12.2-py3-none-any.whl.metadata (5.1 kB)\n",
      "Requirement already satisfied: certifi>=2021.10.8 in /Users/egg/micromamba/envs/bio/lib/python3.12/site-packages (from selenium) (2025.1.31)\n",
      "Requirement already satisfied: typing_extensions~=4.9 in /Users/egg/micromamba/envs/bio/lib/python3.12/site-packages (from selenium) (4.12.2)\n",
      "Requirement already satisfied: websocket-client~=1.8 in /Users/egg/micromamba/envs/bio/lib/python3.12/site-packages (from selenium) (1.8.0)\n",
      "Requirement already satisfied: requests in /Users/egg/micromamba/envs/bio/lib/python3.12/site-packages (from webdriver-manager) (2.32.3)\n",
      "Requirement already satisfied: python-dotenv in /Users/egg/micromamba/envs/bio/lib/python3.12/site-packages (from webdriver-manager) (1.0.1)\n",
      "Requirement already satisfied: packaging in /Users/egg/micromamba/envs/bio/lib/python3.12/site-packages (from webdriver-manager) (24.2)\n",
      "Requirement already satisfied: attrs>=23.2.0 in /Users/egg/micromamba/envs/bio/lib/python3.12/site-packages (from trio~=0.17->selenium) (25.1.0)\n",
      "Requirement already satisfied: sortedcontainers in /Users/egg/micromamba/envs/bio/lib/python3.12/site-packages (from trio~=0.17->selenium) (2.4.0)\n",
      "Requirement already satisfied: idna in /Users/egg/micromamba/envs/bio/lib/python3.12/site-packages (from trio~=0.17->selenium) (3.10)\n",
      "Collecting outcome (from trio~=0.17->selenium)\n",
      "  Downloading outcome-1.3.0.post0-py2.py3-none-any.whl.metadata (2.6 kB)\n",
      "Requirement already satisfied: sniffio>=1.3.0 in /Users/egg/micromamba/envs/bio/lib/python3.12/site-packages (from trio~=0.17->selenium) (1.3.1)\n",
      "Collecting wsproto>=0.14 (from trio-websocket~=0.9->selenium)\n",
      "  Downloading wsproto-1.2.0-py3-none-any.whl.metadata (5.6 kB)\n",
      "Requirement already satisfied: PySocks!=1.5.7,<2.0,>=1.5.6 in /Users/egg/micromamba/envs/bio/lib/python3.12/site-packages (from urllib3[socks]<3,>=1.26->selenium) (1.7.1)\n",
      "Requirement already satisfied: charset_normalizer<4,>=2 in /Users/egg/micromamba/envs/bio/lib/python3.12/site-packages (from requests->webdriver-manager) (3.4.1)\n",
      "Requirement already satisfied: h11<1,>=0.9.0 in /Users/egg/micromamba/envs/bio/lib/python3.12/site-packages (from wsproto>=0.14->trio-websocket~=0.9->selenium) (0.14.0)\n",
      "Downloading selenium-4.29.0-py3-none-any.whl (9.5 MB)\n",
      "\u001b[2K   \u001b[38;2;114;156;31m━━━━━━━━━━━━━━━━━━━━━━━━━━━━━━━━━━━━━━━━\u001b[0m \u001b[32m9.5/9.5 MB\u001b[0m \u001b[31m44.4 MB/s\u001b[0m eta \u001b[36m0:00:00\u001b[0m MB/s\u001b[0m eta \u001b[36m0:00:01\u001b[0m\n",
      "\u001b[?25hDownloading webdriver_manager-4.0.2-py2.py3-none-any.whl (27 kB)\n",
      "Downloading trio-0.29.0-py3-none-any.whl (492 kB)\n",
      "Downloading trio_websocket-0.12.2-py3-none-any.whl (21 kB)\n",
      "Downloading outcome-1.3.0.post0-py2.py3-none-any.whl (10 kB)\n",
      "Downloading wsproto-1.2.0-py3-none-any.whl (24 kB)\n",
      "Installing collected packages: wsproto, outcome, webdriver-manager, trio, trio-websocket, selenium\n",
      "Successfully installed outcome-1.3.0.post0 selenium-4.29.0 trio-0.29.0 trio-websocket-0.12.2 webdriver-manager-4.0.2 wsproto-1.2.0\n",
      "<Response [200]>\n",
      "<Response [200]>\n",
      "<!DOCTYPE html>\n",
      "\n",
      "<html lang=\"en\">\n",
      "<head>\n",
      "<script type=\"text/javascript\">\n",
      "        if (window.location.hostname.indexOf(\".ncbi.nlm.nih.gov\") === -1) {\n",
      "            window.location.hostname = \"www.ncbi.nlm.nih.gov\";\n",
      "        }\n",
      "        var ncbi;\n",
      "        window.ncbi_startTime = new Date();\n",
      "    </script>\n",
      "<meta content=\"text/html; charset=utf-8\" http-equiv=\"Content-type\"/>\n",
      "<meta content=\"width=device-width, initial-scale=1\" name=\"viewport\"/>\n",
      "<meta content=\"index, follow, archive\" name=\"robots\"/>\n",
      "<meta content=\"NCBI Sequence Read Archive\" name=\"description\"/>\n",
      "<meta content=\"sra-web-fe\" name=\"ncbi_app\"/>\n",
      "<meta content=\"sra\" name=\"ncbi_db\"/>\n",
      "<meta content=\"input:not([data-pinger-ignore]), a:not([data-pinger-ignore]), button:not([data-pinger-ignore])\" name=\"ncbi_pinger_click_ping_selector\"/>\n",
      "<meta content=\"false\" name=\"ncbi_pinger_track_stat\"/>\n",
      "<script defer=\"\" src=\"https://d3js.org/d3.v4.js\" type=\"text/javascript\"></script>\n",
      "<script src=\"sra-web-jslib/js/utils.2.1733936288.js\" type=\"text/javascript\"></script>\n",
      "<script src=\"sra-web-jslib/js/xslt.2.1733936288.js\" type=\"text/javascript\"></script>\n",
      "<script src=\"sra-web-jslib/js/notify.1.1733936288.js\" type=\"text/javascript\"></script>\n",
      "<script src=\"sra-web-jslib/js/japp.4.1733936288.js\" type=\"text/javascript\"></script>\n",
      "<script src=\"sra-web-jslib/js/expander.1.1733936288.js\" type=\"text/javascript\"></script>\n",
      "<script src=\"sra-web-jslib/js/tree_static.1.1733936288.js\" type=\"text/javascript\"></script>\n",
      "<script src=\"sra-web-jslib/js/model.1.1733936288.js\" type=\"text/javascript\"></script>\n",
      "<script src=\"sra-web-jslib/js/helpers.1.1733936288.js\" type=\"text/javascript\"></script>\n",
      "<script src=\"sra-web-jslib/js/remote_data_provider.2.1733936288.js\" type=\"text/javascript\"></script>\n",
      "<script src=\"sra-web-fe/js/main.1733936288.js\" type=\"text/javascript\"></script>\n",
      "<script defer=\"\" src=\"sra-web-fe/js/debug.1733936288.js\" type=\"text/javascript\"></script>\n",
      "<script src=\"sra-web-fe/cfg/header_footer_config.1733936288.js\" type=\"text/javascript\"></script>\n",
      "<script src=\"sra-web-jslib/components/header_footer/header_footer.1733936288.js\" type=\"text/javascript\"></script>\n",
      "<script src=\"sra-web-fe/cfg/header_menu_config.1733936288.js\" type=\"text/javascript\"></script>\n",
      "<script src=\"sra-web-fe/cfg/static_config.1733936288.js\" type=\"text/javascript\"></script>\n",
      "<script src=\"sra-web-fe/cfg/dbrequest_config.1733936288.js\" type=\"text/javascript\"></script>\n",
      "<script src=\"sra-web-jslib/components/static/static.1733936288.js\" type=\"text/javascript\"></script>\n",
      "<script src=\"sra-web-jslib/components/dbrequest/dbrequest.1733936288.js\" type=\"text/javascript\"></script>\n",
      "<script src=\"sra-web-jslib/components/link_resolver/link_resolver.1733936288.js\" type=\"text/javascript\"></script>\n",
      "<script src=\"sra-web-jslib/components/header_menu/header_menu.1733936288.js\" type=\"text/javascript\"></script>\n",
      "<script src=\"sra-web-fe/js/run_browser_dbrequest.1733936288.js\" type=\"text/javascript\"></script>\n",
      "<script src=\"sra-web-fe/js/sra_dbrequest.1733936288.js\" type=\"text/javascript\"></script>\n",
      "<script src=\"sra-web-fe/js/download_dbrequest.1733936288.js\" type=\"text/javascript\"></script>\n",
      "<script src=\"sra-web-fe/js/reads_list.1733936288.js\" type=\"text/javascript\"></script>\n",
      "<script src=\"sra-web-fe/js/read_display.1733936288.js\" type=\"text/javascript\"></script>\n",
      "<script src=\"sra-web-fe/js/read_sig_table.1733936288.js\" type=\"text/javascript\"></script>\n",
      "<script src=\"sra-web-fe/js/read_intense_graph.1733936288.js\" type=\"text/javascript\"></script>\n",
      "<script src=\"sra-web-fe/js/read_show_also.1733936288.js\" type=\"text/javascript\"></script>\n",
      "<script src=\"sra-web-fe/js/tax_analysis.1733936288.js\" type=\"text/javascript\"></script>\n",
      "<script src=\"sra-web-fe/js/run_analysis.1733936288.js\" type=\"text/javascript\"></script>\n",
      "<script src=\"sra-web-fe/js/run_alignment.1733936288.js\" type=\"text/javascript\"></script>\n",
      "<link href=\"sra-web-jslib/components/header_footer/header_footer.1733936288.css\" rel=\"stylesheet\" type=\"text/css\"/>\n",
      "<link href=\"/Traces/core/semantic.2.4/semantic.min.css\" rel=\"stylesheet\" type=\"text/css\"/>\n",
      "<link href=\"sra-web-jslib/css/expander.1.1733936288.css\" rel=\"stylesheet\" type=\"text/css\"/>\n",
      "<link href=\"sra-web-jslib/css/tree.3.1733936288.css\" rel=\"stylesheet\" type=\"text/css\"/>\n",
      "<link href=\"sra-web-jslib/components/header_menu/header_menu.1733936288.css\" rel=\"stylesheet\" type=\"text/css\"/>\n",
      "<link href=\"sra-web-fe/css/style.1733936288.css\" rel=\"stylesheet\" type=\"text/css\"/>\n",
      "<style>\n",
      "        .tree i {\n",
      "            margin-left: 1em;\n",
      "            color: #666;\n",
      "        }\n",
      "    </style>\n",
      "<title>SRA Archive: NCBI</title>\n",
      "</head>\n",
      "<body>\n",
      "<div class=\"content\">\n",
      "<div id=\"ph-header\"></div>\n",
      "<div id=\"gsd\"></div>\n",
      "<div id=\"ph-breadcrumb\"></div>\n",
      "<div id=\"ph-maincontent\"></div>\n",
      "</div>\n",
      "<footer id=\"ph-footer\"></footer>\n",
      "<div class=\"commit-info\">Updated: Wed Dec 11 11:58:08 EST 2024</div>\n",
      "<div class=\"busy ui segment\">\n",
      "<div class=\"ui active inverted dimmer\">\n",
      "<div class=\"ui text loader\" id=\"t-spinner-loading\">Loading</div>\n",
      "</div>\n",
      "<p></p>\n",
      "</div>\n",
      "<div id=\"ph-debug\" style=\"display:none;\"></div>\n",
      "<script src=\"https://www.ncbi.nlm.nih.gov/core/pinger/pinger.js\" type=\"text/javascript\"></script>\n",
      "<script type=\"text/javascript\">\n",
      "        if (ncbi) if (ncbi.pinger) {\n",
      "            window.ncbi.pinger.registerMutator('render', function (ping) {\n",
      "                return { ga_category: \"page_global_event\", ga_action: \"page_is_loaded\" };\n",
      "            });\n",
      "            ncbi.pinger.track();\n",
      "        }\n",
      "    </script>\n",
      "</body>\n",
      "</html>\n",
      "\n",
      "[]\n"
     ]
    }
   ],
   "source": [
    "# Test with known SRR\n",
    "!pip install selenium webdriver-manager\n",
    "srr_id = \"SRR31810743\"\n",
    "url = f\"https://trace.ncbi.nlm.nih.gov/Traces/index.html?view=run_browser&acc={srr_id}&display=data-access\"\n",
    "response = requests.get(url, timeout=10)\n",
    "print(response)\n",
    "response.raise_for_status()\n",
    "print(response)\n",
    "soup = BeautifulSoup(response.text, \"html.parser\")\n",
    "print(soup)\n",
    "aws_links = [a[\"href\"] for a in soup.find_all(\"a\", href=True) if \"https://sra-pub-src\" in a[\"href\"]]\n",
    "print(aws_links)\n"
   ]
  },
  {
   "cell_type": "markdown",
   "metadata": {},
   "source": [
    "## Testing with Selenium"
   ]
  },
  {
   "cell_type": "code",
   "execution_count": 26,
   "metadata": {},
   "outputs": [],
   "source": [
    "from selenium import webdriver\n",
    "from selenium.webdriver.chrome.service import Service\n",
    "from webdriver_manager.chrome import ChromeDriverManager\n",
    "from selenium.webdriver.common.by import By\n",
    "from bs4 import BeautifulSoup\n",
    "import time"
   ]
  },
  {
   "cell_type": "code",
   "execution_count": 27,
   "metadata": {},
   "outputs": [],
   "source": [
    "def get_sra_aws_links(srr_id):\n",
    "    \"\"\"\n",
    "    Extract AWS download links from NCBI SRA Run Browser using Selenium.\n",
    "\n",
    "    Parameters:\n",
    "    srr_id (str): The SRA run ID (e.g., \"SRR31810743\")\n",
    "\n",
    "    Returns:\n",
    "    list: A list of AWS download URLs.\n",
    "    \"\"\"\n",
    "    # Define the URL\n",
    "    url = f\"https://trace.ncbi.nlm.nih.gov/Traces/index.html?view=run_browser&acc={srr_id}&display=data-access\"\n",
    "\n",
    "    # Set up Selenium WebDriver (headless mode)\n",
    "    options = webdriver.ChromeOptions()\n",
    "    options.add_argument(\"--headless\")  # Run in headless mode (no browser window)\n",
    "    options.add_argument(\"--no-sandbox\")\n",
    "    options.add_argument(\"--disable-dev-shm-usage\")\n",
    "\n",
    "    service = Service(ChromeDriverManager().install())\n",
    "    driver = webdriver.Chrome(service=service, options=options)\n",
    "\n",
    "    try:\n",
    "        # Load the page\n",
    "        driver.get(url)\n",
    "        time.sleep(5)  # Wait for JavaScript to load the content\n",
    "\n",
    "        # Get the updated page source with JavaScript-rendered content\n",
    "        soup = BeautifulSoup(driver.page_source, \"html.parser\")\n",
    "\n",
    "        # Extract all AWS download links\n",
    "        aws_links = [a[\"href\"] for a in soup.find_all(\"a\", href=True) if \"https://sra-pub-src\" in a[\"href\"]]\n",
    "\n",
    "        return aws_links\n",
    "\n",
    "    except Exception as e:\n",
    "        print(f\"Error fetching AWS links: {e}\")\n",
    "        return None\n",
    "\n",
    "    finally:\n",
    "        driver.quit()  # Close the browser session"
   ]
  },
  {
   "cell_type": "code",
   "execution_count": 35,
   "metadata": {},
   "outputs": [
    {
     "name": "stdout",
     "output_type": "stream",
     "text": [
      "AWS Download Links Found:\n",
      "https://sra-pub-src-1.s3.amazonaws.com/SRR31814604/b12-month-BC-dscHiC_S2_L007_R2_001.fastq.gz.1\n",
      "https://sra-pub-src-1.s3.amazonaws.com/SRR31814604/b12-month-BC-dscHiC_S2_L007_R1_001.fastq.gz.1\n",
      "https://sra-pub-src-1.s3.amazonaws.com/SRR31814604/b12-month-BC-dscHiC_S2_L007_I2_001.fastq.gz.1\n"
     ]
    }
   ],
   "source": [
    "# Test\n",
    "#srr_id = \"SRR31810744\" # (HAS PREFETCH) No AWS links found or failed to retrieve data. \n",
    "#srr_id = \"SRR31810743\" # (NO PREFETCH) Get AWS links\n",
    "#srr_id = \"SRR31810742\" # (NO PREFETCH) Get AWS links\n",
    "#srr_id = \"SRR31810741\" # (NO PREFETCH) Get AWS links\n",
    "#srr_id = \"SRR31814601\" # (NO PREFETCH) Get AWS links\n",
    "#srr_id = \"SRR31815262\" # (HAS PREFETCH) No AWS links found or failed to retrieve data.\n",
    "#srr_id = \"SRR31814605\" # (HAS PREFETCH) No AWS links found or failed to retrieve data.\n",
    "#srr_id = \"SRR31814604\" # (NO PREFETCH) Get AWS links\n",
    "aws_links = get_sra_aws_links(srr_id)\n",
    "\n",
    "if aws_links:\n",
    "    print(\"AWS Download Links Found:\")\n",
    "    for link in aws_links:\n",
    "        print(link)\n",
    "else:\n",
    "    print(\"No AWS links found or failed to retrieve data.\")"
   ]
  },
  {
   "cell_type": "code",
   "execution_count": null,
   "metadata": {},
   "outputs": [],
   "source": []
  }
 ],
 "metadata": {
  "kernelspec": {
   "display_name": "Python 3 (ipykernel)",
   "language": "python",
   "name": "python3"
  },
  "language_info": {
   "codemirror_mode": {
    "name": "ipython",
    "version": 3
   },
   "file_extension": ".py",
   "mimetype": "text/x-python",
   "name": "python",
   "nbconvert_exporter": "python",
   "pygments_lexer": "ipython3",
   "version": "3.12.9"
  }
 },
 "nbformat": 4,
 "nbformat_minor": 4
}
